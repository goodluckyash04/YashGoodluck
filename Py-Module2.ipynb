{
 "cells": [
  {
   "cell_type": "markdown",
   "id": "1b5b3988",
   "metadata": {},
   "source": [
    "# Python Assignments"
   ]
  },
  {
   "cell_type": "markdown",
   "id": "094b2cf1",
   "metadata": {},
   "source": [
    "## Module-2"
   ]
  },
  {
   "cell_type": "markdown",
   "id": "e5249206",
   "metadata": {},
   "source": [
    "### Write a Python program to check if a number is positive, negative or zero"
   ]
  },
  {
   "cell_type": "code",
   "execution_count": null,
   "id": "10c8ad87",
   "metadata": {},
   "outputs": [],
   "source": [
    "num = int(input())\n",
    "if num<=0:\n",
    "    if num==0:\n",
    "        print(\"You have Entered Number Zero\")\n",
    "    else:\n",
    "        print(\"Entered Number is Negative\")\n",
    "else:\n",
    "     print(\"Entered Number is Positive\")\n"
   ]
  },
  {
   "cell_type": "markdown",
   "id": "d0d6ab2a",
   "metadata": {},
   "source": [
    "### Write a Python program to get the Factorial number of given number"
   ]
  },
  {
   "cell_type": "code",
   "execution_count": null,
   "id": "a8717b3c",
   "metadata": {},
   "outputs": [],
   "source": [
    "a = int(input())\n",
    "num=a\n",
    "for i in range(1,a):\n",
    "    num*=(a-i)\n",
    "print(a,\"! is \",num)"
   ]
  },
  {
   "cell_type": "markdown",
   "id": "e1081a2d",
   "metadata": {},
   "source": [
    "### Write a Python program to get the Fibonacci series of given range.\n"
   ]
  },
  {
   "cell_type": "code",
   "execution_count": null,
   "id": "bb037c8d",
   "metadata": {},
   "outputs": [],
   "source": [
    "b=int(input())\n",
    "fb_sr = 0\n",
    "fb_sr1 = 1\n",
    "print(fb_sr)\n",
    "for i in range(b-1):\n",
    "    x = fb_sr\n",
    "    fb_sr = fb_sr1\n",
    "    fb_sr1=x+fb_sr1\n",
    "    print(fb_sr)"
   ]
  },
  {
   "cell_type": "markdown",
   "id": "08900eb9",
   "metadata": {},
   "source": [
    "### How memory is managed in Python?"
   ]
  },
  {
   "cell_type": "markdown",
   "id": "4f5f7b56",
   "metadata": {},
   "source": [
    "##### 'Memory in python is managed Dynamically with private heap space'"
   ]
  },
  {
   "cell_type": "markdown",
   "id": "2225416f",
   "metadata": {},
   "source": [
    "### What is the purpose of continue statement in python?"
   ]
  },
  {
   "cell_type": "markdown",
   "id": "0ec6b8d4",
   "metadata": {},
   "source": [
    "##### 'Continue Statement is a part of control Statement.continue keyword ends the current iteration and starts the new iteration in loops'"
   ]
  },
  {
   "cell_type": "markdown",
   "id": "ab1560dc",
   "metadata": {},
   "source": [
    "### Write python program that swap two number with temp variable and without temp variable."
   ]
  },
  {
   "cell_type": "markdown",
   "id": "217316aa",
   "metadata": {},
   "source": [
    "#### -with Temp"
   ]
  },
  {
   "cell_type": "code",
   "execution_count": null,
   "id": "47c4f311",
   "metadata": {},
   "outputs": [],
   "source": [
    "c = int(input())\n",
    "d = int(input())\n",
    "print(\"c=\",c,\"d=\",d)\n",
    "temp = c\n",
    "c = d\n",
    "d = temp\n",
    "print('after swap')\n",
    "print(\"c=\",c,\"d=\",d)"
   ]
  },
  {
   "cell_type": "markdown",
   "id": "247cd2b9",
   "metadata": {},
   "source": [
    "#### without Temp"
   ]
  },
  {
   "cell_type": "code",
   "execution_count": null,
   "id": "5bd028df",
   "metadata": {},
   "outputs": [],
   "source": [
    "k = int(input())\n",
    "j = int(input())\n",
    "print(\"k=\",k,\"j=\",j)\n",
    "k = k+j\n",
    "j = k-j\n",
    "k = k-j\n",
    "print(\"k=\",k,\"j=\",j)"
   ]
  },
  {
   "cell_type": "markdown",
   "id": "f47e322a",
   "metadata": {},
   "source": [
    "### Write a Python program to find whether a given number is even or odd, print out an appropriate message to the user."
   ]
  },
  {
   "cell_type": "code",
   "execution_count": null,
   "id": "339fb7aa",
   "metadata": {},
   "outputs": [],
   "source": [
    "number = int(input())\n",
    "if number%2==0:\n",
    "    print('Number is Even')\n",
    "else:\n",
    "    print('Number is Odd')"
   ]
  },
  {
   "cell_type": "markdown",
   "id": "14fc917d",
   "metadata": {},
   "source": [
    "### Write a Python program to test whether a passed letter is a vowel or not."
   ]
  },
  {
   "cell_type": "markdown",
   "id": "84f308e4",
   "metadata": {},
   "source": [
    "### Write a Python program to sum of three given integers.However, if two values are equal sum will be zero."
   ]
  },
  {
   "cell_type": "code",
   "execution_count": null,
   "id": "ca791bbc",
   "metadata": {},
   "outputs": [],
   "source": [
    "a=int(input())\n",
    "b=int(input())\n",
    "c=int(input())\n",
    "if a==b or b==c or c==a:\n",
    "    sum = 0\n",
    "else:\n",
    "    sum = a+b+c\n",
    "print('sum of the number is',sum)"
   ]
  },
  {
   "cell_type": "markdown",
   "id": "585fe187",
   "metadata": {},
   "source": [
    "### Write a Python program that will return true if the two given integer values are equal or their sum or difference is 5."
   ]
  },
  {
   "cell_type": "code",
   "execution_count": null,
   "id": "b1771cad",
   "metadata": {},
   "outputs": [],
   "source": [
    "num1=int(input())\n",
    "num2=int(input())\n",
    "if num1 == num2 or num1+num2==5 or num1-num2==5:\n",
    "    print(True)\n",
    "else:\n",
    "    print(False)"
   ]
  },
  {
   "cell_type": "markdown",
   "id": "84cc4027",
   "metadata": {},
   "source": [
    "### Write a python program to sum of the first n positive integers."
   ]
  },
  {
   "cell_type": "code",
   "execution_count": 2,
   "id": "2daa1000",
   "metadata": {},
   "outputs": [
    {
     "name": "stdout",
     "output_type": "stream",
     "text": [
      "5\n",
      "15.0\n"
     ]
    }
   ],
   "source": [
    "n=int(input())\n",
    "sum = n*(n+1)/2\n",
    "print(sum)"
   ]
  },
  {
   "cell_type": "markdown",
   "id": "dece4670",
   "metadata": {},
   "source": [
    "### Write a Python program to calculate the length of a string."
   ]
  }
 ],
 "metadata": {
  "kernelspec": {
   "display_name": "Python 3 (ipykernel)",
   "language": "python",
   "name": "python3"
  },
  "language_info": {
   "codemirror_mode": {
    "name": "ipython",
    "version": 3
   },
   "file_extension": ".py",
   "mimetype": "text/x-python",
   "name": "python",
   "nbconvert_exporter": "python",
   "pygments_lexer": "ipython3",
   "version": "3.9.7"
  }
 },
 "nbformat": 4,
 "nbformat_minor": 5
}
