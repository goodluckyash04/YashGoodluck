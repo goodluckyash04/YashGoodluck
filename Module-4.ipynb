{
 "cells": [
  {
   "cell_type": "markdown",
   "id": "5d2324a4",
   "metadata": {},
   "source": [
    "# Module-4"
   ]
  },
  {
   "cell_type": "markdown",
   "id": "83c4363a",
   "metadata": {},
   "source": [
    "### What is File function in python? What is keywords to create and write file."
   ]
  },
  {
   "cell_type": "markdown",
   "id": "d8c6882f",
   "metadata": {},
   "source": [
    "#### File function is used to perform actions on file. To create file : open('filepath/name.ext','x')  and to write file : open('filepath/name.ext','w')=>.write()"
   ]
  },
  {
   "cell_type": "code",
   "execution_count": null,
   "id": "5bfecf52",
   "metadata": {},
   "outputs": [],
   "source": [
    "file1= open('Pyton101.txt','x') #file create\n",
    "file1= open('Pyton101.txt','w') #file write\n",
    "file1.write('this is python assignment module 4') #file write\n",
    "file1.close()"
   ]
  },
  {
   "cell_type": "markdown",
   "id": "eedf0a6a",
   "metadata": {},
   "source": [
    "### Write a Python program to read an entire text file."
   ]
  },
  {
   "cell_type": "code",
   "execution_count": null,
   "id": "354c665a",
   "metadata": {},
   "outputs": [],
   "source": [
    "file_read=open('Pyton101.txt','r')\n",
    "print(file_read.read())\n",
    "file_read.close()"
   ]
  },
  {
   "cell_type": "markdown",
   "id": "a44831b6",
   "metadata": {},
   "source": [
    "### Write a Python program to append text to a file and display the text."
   ]
  },
  {
   "cell_type": "code",
   "execution_count": null,
   "id": "3110ded6",
   "metadata": {},
   "outputs": [],
   "source": [
    "file_edit = open('Pyton101.txt','a')\n",
    "file_edit.write('\\nThis is Second Line')\n",
    "file_edit.close()\n",
    "file_edit1 = open('Pyton101.txt','r')\n",
    "print(file_edit1.read())\n",
    "file_edit1.close()"
   ]
  },
  {
   "cell_type": "markdown",
   "id": "d6e8de64",
   "metadata": {},
   "source": [
    "### Write a Python program to read first n lines of a file."
   ]
  },
  {
   "cell_type": "code",
   "execution_count": null,
   "id": "d3425a84",
   "metadata": {},
   "outputs": [],
   "source": []
  },
  {
   "cell_type": "markdown",
   "id": "9ea62fd9",
   "metadata": {},
   "source": [
    "### Write a Python program to read last n lines of a file."
   ]
  },
  {
   "cell_type": "code",
   "execution_count": null,
   "id": "f3aaaeb4",
   "metadata": {},
   "outputs": [],
   "source": []
  },
  {
   "cell_type": "markdown",
   "id": "f4991258",
   "metadata": {},
   "source": [
    "### Write a Python program to read a file line by line and store it into a list"
   ]
  },
  {
   "cell_type": "code",
   "execution_count": null,
   "id": "de796bae",
   "metadata": {},
   "outputs": [],
   "source": [
    "file_edit2 = open('Pyton101.txt','r')\n",
    "lis=file_edit2.readlines()\n",
    "file_edit2.close()\n",
    "print(lis)"
   ]
  },
  {
   "cell_type": "markdown",
   "id": "742cd1b8",
   "metadata": {},
   "source": [
    "### Write a Python program to read a file line by line store it into a variable."
   ]
  },
  {
   "cell_type": "code",
   "execution_count": null,
   "id": "375cf18f",
   "metadata": {},
   "outputs": [],
   "source": []
  },
  {
   "cell_type": "markdown",
   "id": "4dc81eaa",
   "metadata": {},
   "source": [
    "### Write a python program to find the longest words.\n"
   ]
  },
  {
   "cell_type": "code",
   "execution_count": null,
   "id": "b3af8ede",
   "metadata": {},
   "outputs": [],
   "source": [
    "filex=open('Pyton101.txt','r')\n",
    "lin = filex.readlines()\n",
    "temp = 0\n",
    "for i in lin:\n",
    "    x = i.split()\n",
    "    for y in x:\n",
    "        if len(y)>temp:\n",
    "            temp = len(y)\n",
    "            word = y\n",
    "print(word,'is the longest word')\n",
    "filex.close()"
   ]
  },
  {
   "cell_type": "markdown",
   "id": "3eb37b05",
   "metadata": {},
   "source": [
    "### Write a Python program to count the number of lines in a text file."
   ]
  },
  {
   "cell_type": "code",
   "execution_count": null,
   "id": "ab54355f",
   "metadata": {},
   "outputs": [],
   "source": [
    "filey = open('Pyton101.txt','r')\n",
    "x= filey.readlines()\n",
    "filey.close()\n",
    "print(len(x),'lines in file')"
   ]
  },
  {
   "cell_type": "markdown",
   "id": "2798154d",
   "metadata": {},
   "source": [
    "### Write a Python program to count the frequency of words in a file."
   ]
  },
  {
   "cell_type": "code",
   "execution_count": 7,
   "id": "d4973de4",
   "metadata": {},
   "outputs": [
    {
     "name": "stdout",
     "output_type": "stream",
     "text": [
      "this 1\n",
      "is 2\n",
      "python 1\n",
      "assignment 1\n",
      "module 1\n",
      "4 1\n",
      "This 1\n",
      "is 2\n",
      "Second 1\n",
      "Line 1\n",
      "['this', 'is', 'python', 'assignment', 'module', '4', 'This', 'is', 'Second', 'Line']\n"
     ]
    }
   ],
   "source": [
    "filek=open('Pyton101.txt','r')\n",
    "lin1 = filek.readlines()\n",
    "list1 = []\n",
    "for i in lin1:\n",
    "    x = i.split()\n",
    "    for y in x:\n",
    "        list1.append(y)\n",
    "for k in list1:\n",
    "    print(k,list1.count(k))\n",
    "filek.close()"
   ]
  },
  {
   "cell_type": "markdown",
   "id": "3f176832",
   "metadata": {},
   "source": [
    "### Write a Python program to write a list to a file."
   ]
  },
  {
   "cell_type": "code",
   "execution_count": null,
   "id": "1a0e7b4e",
   "metadata": {},
   "outputs": [],
   "source": [
    "ls1 = ['yash goodluck','surat']\n",
    "file1 = open('tops2.txt','w')\n",
    "for i in ls1:\n",
    "\tfile1.writelines(i+'\\n')\n",
    "file1.close()"
   ]
  },
  {
   "cell_type": "markdown",
   "id": "1fe2eb77",
   "metadata": {},
   "source": [
    "### Write a Python program to copy the contents of a file to another file."
   ]
  },
  {
   "cell_type": "code",
   "execution_count": null,
   "id": "38711c80",
   "metadata": {},
   "outputs": [],
   "source": []
  },
  {
   "cell_type": "markdown",
   "id": "bda13b50",
   "metadata": {},
   "source": [
    "### Explain Exception handling? What is an Error in Python?"
   ]
  },
  {
   "cell_type": "markdown",
   "id": "d2fa24f5",
   "metadata": {},
   "source": [
    "#### Exception Handling is a process of handling unexpexted Errors, without stopping the programme execution.Errors are problems that occur in the program due to an illegal operation performed by the user or by the fault of a programmer, which halts the normal flow of the program."
   ]
  },
  {
   "cell_type": "markdown",
   "id": "045b4219",
   "metadata": {},
   "source": [
    "### How many except statements can a try-except block have? Name Some built-in exception classes:"
   ]
  },
  {
   "cell_type": "markdown",
   "id": "44ff9c39",
   "metadata": {},
   "source": [
    "#### One or more than one except statements can be use in try except block.Built in exception class are ValueError, NameError, KeyError, ZeroDivisionError, etc..."
   ]
  },
  {
   "cell_type": "markdown",
   "id": "a3870cf7",
   "metadata": {},
   "source": [
    "### When will the else part of try-except-else be executed?"
   ]
  },
  {
   "cell_type": "code",
   "execution_count": null,
   "id": "c68f727c",
   "metadata": {},
   "outputs": [],
   "source": []
  },
  {
   "cell_type": "markdown",
   "id": "4588df9e",
   "metadata": {},
   "source": [
    "### Can one block of except statements handle multiple exception?"
   ]
  },
  {
   "cell_type": "markdown",
   "id": "179ae3da",
   "metadata": {},
   "source": [
    "#### One Block of except statements can handle one exception per block. To Use multiple Handling we can use nested try-catch block"
   ]
  },
  {
   "cell_type": "markdown",
   "id": "96bc996b",
   "metadata": {},
   "source": [
    "### When is the finally block executed?"
   ]
  },
  {
   "cell_type": "markdown",
   "id": "a1187538",
   "metadata": {},
   "source": [
    "#### finally block is executed after try or exception block"
   ]
  },
  {
   "cell_type": "markdown",
   "id": "f7d59e80",
   "metadata": {},
   "source": [
    "### What happens when „1‟== 1 is executed?"
   ]
  },
  {
   "cell_type": "code",
   "execution_count": null,
   "id": "e4db9951",
   "metadata": {},
   "outputs": [],
   "source": []
  },
  {
   "cell_type": "markdown",
   "id": "8216c9d8",
   "metadata": {},
   "source": [
    "### How Do You Handle Exceptions With Try/Except/Finally In Python?Explain with coding snippets.\n"
   ]
  },
  {
   "cell_type": "code",
   "execution_count": null,
   "id": "fcc5ee80",
   "metadata": {},
   "outputs": [],
   "source": [
    "try:\n",
    "    number = int(input())\n",
    "    k=number/5\n",
    "    print(k)\n",
    "except ValueError:\n",
    "    print('Error!! Run again and Enter Integer Number')\n",
    "except:\n",
    "    print('An Error Occured')\n",
    "finally:\n",
    "    print('You have reached the last statment, nothing left to be executed')"
   ]
  },
  {
   "cell_type": "markdown",
   "id": "82b76fb1",
   "metadata": {},
   "source": [
    "### Write python program that user to enter only odd numbers, else will raise an exception."
   ]
  },
  {
   "cell_type": "code",
   "execution_count": null,
   "id": "1b463319",
   "metadata": {},
   "outputs": [],
   "source": [
    "class OddEvenError(Exception):\n",
    "    pass\n",
    "num = int(input())\n",
    "if num%2==0:\n",
    "    raise OddEvenError('Please Enter Odd Number')"
   ]
  }
 ],
 "metadata": {
  "kernelspec": {
   "display_name": "Python 3 (ipykernel)",
   "language": "python",
   "name": "python3"
  },
  "language_info": {
   "codemirror_mode": {
    "name": "ipython",
    "version": 3
   },
   "file_extension": ".py",
   "mimetype": "text/x-python",
   "name": "python",
   "nbconvert_exporter": "python",
   "pygments_lexer": "ipython3",
   "version": "3.9.7"
  }
 },
 "nbformat": 4,
 "nbformat_minor": 5
}
