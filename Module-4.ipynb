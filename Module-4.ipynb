{
 "cells": [
  {
   "cell_type": "markdown",
   "id": "5d2324a4",
   "metadata": {},
   "source": [
    "# Module-4"
   ]
  },
  {
   "cell_type": "code",
   "execution_count": null,
   "id": "abf9b9ae",
   "metadata": {},
   "outputs": [],
   "source": [
    "# What is File function in python? What is keywords to create and write file.\n",
    "#  Write a Python program to read an entire text file.\n",
    "#  Write a Python program to append text to a file and display the text.\n",
    "#  Write a Python program to read first n lines of a file.\n",
    "#  Write a Python program to read last n lines of a file.\n",
    "#  Write a Python program to read a file line by line and store it into a list\n",
    "#  Write a Python program to read a file line by line store it into a variable.\n",
    "#  Write a python program to find the longest words.\n",
    "#  Write a Python program to count the number of lines in a text file.\n",
    "#  Write a Python program to count the frequency of words in a file.\n",
    "#  Write a Python program to write a list to a file.\n",
    "#  Write a Python program to copy the contents of a file to another file."
   ]
  },
  {
   "cell_type": "markdown",
   "id": "bda13b50",
   "metadata": {},
   "source": [
    "### Explain Exception handling? What is an Error in Python?"
   ]
  },
  {
   "cell_type": "markdown",
   "id": "d2fa24f5",
   "metadata": {},
   "source": [
    "#### Exception Handling is a process of handling unexpexted Errors, without stopping the programme execution.Errors are problems that occur in the program due to an illegal operation performed by the user or by the fault of a programmer, which halts the normal flow of the program."
   ]
  },
  {
   "cell_type": "markdown",
   "id": "045b4219",
   "metadata": {},
   "source": [
    "### How many except statements can a try-except block have? Name Some built-in exception classes:"
   ]
  },
  {
   "cell_type": "markdown",
   "id": "44ff9c39",
   "metadata": {},
   "source": [
    "#### One or more than one except statements can be use in try except block.Built in exception class are ValueError, NameError, KeyError, ZeroDivisionError, etc..."
   ]
  },
  {
   "cell_type": "markdown",
   "id": "a3870cf7",
   "metadata": {},
   "source": [
    "### When will the else part of try-except-else be executed?"
   ]
  },
  {
   "cell_type": "code",
   "execution_count": null,
   "id": "c68f727c",
   "metadata": {},
   "outputs": [],
   "source": []
  },
  {
   "cell_type": "markdown",
   "id": "4588df9e",
   "metadata": {},
   "source": [
    "### Can one block of except statements handle multiple exception?"
   ]
  },
  {
   "cell_type": "markdown",
   "id": "179ae3da",
   "metadata": {},
   "source": [
    "#### One Block of except statements can handle one exception per block. To Use multiple Handling we can use nested try-catch block"
   ]
  },
  {
   "cell_type": "markdown",
   "id": "96bc996b",
   "metadata": {},
   "source": [
    "### When is the finally block executed?"
   ]
  },
  {
   "cell_type": "markdown",
   "id": "a1187538",
   "metadata": {},
   "source": [
    "#### finally block is executed after try or exception block"
   ]
  },
  {
   "cell_type": "markdown",
   "id": "f7d59e80",
   "metadata": {},
   "source": [
    "### What happens when „1‟== 1 is executed?"
   ]
  },
  {
   "cell_type": "code",
   "execution_count": null,
   "id": "e4db9951",
   "metadata": {},
   "outputs": [],
   "source": []
  },
  {
   "cell_type": "markdown",
   "id": "8216c9d8",
   "metadata": {},
   "source": [
    "### How Do You Handle Exceptions With Try/Except/Finally In Python?Explain with coding snippets.\n"
   ]
  },
  {
   "cell_type": "code",
   "execution_count": 17,
   "id": "fcc5ee80",
   "metadata": {},
   "outputs": [
    {
     "name": "stdout",
     "output_type": "stream",
     "text": [
      "5.6\n",
      "Error!! Run again and Enter Integer Number\n",
      "You have reached the last statment, nothing left to be executed\n"
     ]
    }
   ],
   "source": [
    "try:\n",
    "    number = int(input())\n",
    "    k=number/5\n",
    "    print(k)\n",
    "except ValueError:\n",
    "    print('Error!! Run again and Enter Integer Number')\n",
    "except:\n",
    "    print('An Error Occured')\n",
    "finally:\n",
    "    print('You have reached the last statment, nothing left to be executed')"
   ]
  },
  {
   "cell_type": "markdown",
   "id": "82b76fb1",
   "metadata": {},
   "source": [
    "### Write python program that user to enter only odd numbers, else will raise an exception."
   ]
  },
  {
   "cell_type": "code",
   "execution_count": 29,
   "id": "1b463319",
   "metadata": {},
   "outputs": [
    {
     "name": "stdout",
     "output_type": "stream",
     "text": [
      "56\n"
     ]
    },
    {
     "ename": "OddEvenError",
     "evalue": "Please Enter Odd Number",
     "output_type": "error",
     "traceback": [
      "\u001b[1;31m---------------------------------------------------------------------------\u001b[0m",
      "\u001b[1;31mOddEvenError\u001b[0m                              Traceback (most recent call last)",
      "\u001b[1;32m~\\AppData\\Local\\Temp/ipykernel_14020/4210725097.py\u001b[0m in \u001b[0;36m<module>\u001b[1;34m\u001b[0m\n\u001b[0;32m      3\u001b[0m \u001b[0mnum\u001b[0m \u001b[1;33m=\u001b[0m \u001b[0mint\u001b[0m\u001b[1;33m(\u001b[0m\u001b[0minput\u001b[0m\u001b[1;33m(\u001b[0m\u001b[1;33m)\u001b[0m\u001b[1;33m)\u001b[0m\u001b[1;33m\u001b[0m\u001b[1;33m\u001b[0m\u001b[0m\n\u001b[0;32m      4\u001b[0m \u001b[1;32mif\u001b[0m \u001b[0mnum\u001b[0m\u001b[1;33m%\u001b[0m\u001b[1;36m2\u001b[0m\u001b[1;33m==\u001b[0m\u001b[1;36m0\u001b[0m\u001b[1;33m:\u001b[0m\u001b[1;33m\u001b[0m\u001b[1;33m\u001b[0m\u001b[0m\n\u001b[1;32m----> 5\u001b[1;33m     \u001b[1;32mraise\u001b[0m \u001b[0mOddEvenError\u001b[0m\u001b[1;33m(\u001b[0m\u001b[1;34m'Please Enter Odd Number'\u001b[0m\u001b[1;33m)\u001b[0m\u001b[1;33m\u001b[0m\u001b[1;33m\u001b[0m\u001b[0m\n\u001b[0m",
      "\u001b[1;31mOddEvenError\u001b[0m: Please Enter Odd Number"
     ]
    }
   ],
   "source": [
    "class OddEvenError(Exception):\n",
    "    pass\n",
    "num = int(input())\n",
    "if num%2==0:\n",
    "    raise OddEvenError('Please Enter Odd Number')"
   ]
  }
 ],
 "metadata": {
  "kernelspec": {
   "display_name": "Python 3 (ipykernel)",
   "language": "python",
   "name": "python3"
  },
  "language_info": {
   "codemirror_mode": {
    "name": "ipython",
    "version": 3
   },
   "file_extension": ".py",
   "mimetype": "text/x-python",
   "name": "python",
   "nbconvert_exporter": "python",
   "pygments_lexer": "ipython3",
   "version": "3.9.7"
  }
 },
 "nbformat": 4,
 "nbformat_minor": 5
}
