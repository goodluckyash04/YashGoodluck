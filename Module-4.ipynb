{
 "cells": [
  {
   "cell_type": "markdown",
   "id": "5d2324a4",
   "metadata": {},
   "source": [
    "# Module-4"
   ]
  },
  {
   "cell_type": "markdown",
   "id": "83c4363a",
   "metadata": {},
   "source": [
    "### What is File function in python? What is keywords to create and write file."
   ]
  },
  {
   "cell_type": "markdown",
   "id": "d8c6882f",
   "metadata": {},
   "source": [
    "#### File function is used to perform actions on file. To create file : open('filepath/name.ext','x')  and to write file : open('filepath/name.ext','w')=>.write()"
   ]
  },
  {
   "cell_type": "code",
   "execution_count": null,
   "id": "5bfecf52",
   "metadata": {},
   "outputs": [],
   "source": [
    "file1= open('Pyton101.txt','x') #file create\n",
    "file1= open('Pyton101.txt','w') #file write\n",
    "file1.write('this is python assignment module 4') #file write\n",
    "file1.close()"
   ]
  },
  {
   "cell_type": "markdown",
   "id": "eedf0a6a",
   "metadata": {},
   "source": [
    "### Write a Python program to read an entire text file."
   ]
  },
  {
   "cell_type": "code",
   "execution_count": null,
   "id": "354c665a",
   "metadata": {},
   "outputs": [],
   "source": [
    "file_read=open('Pyton101.txt','r')\n",
    "print(file_read.read())\n",
    "file_read.close()"
   ]
  },
  {
   "cell_type": "markdown",
   "id": "a44831b6",
   "metadata": {},
   "source": [
    "### Write a Python program to append text to a file and display the text."
   ]
  },
  {
   "cell_type": "code",
   "execution_count": null,
   "id": "3110ded6",
   "metadata": {},
   "outputs": [],
   "source": [
    "file_edit = open('Pyton101.txt','a')\n",
    "file_edit.write('\\nThis is Second Line')\n",
    "file_edit.close()\n",
    "file_edit1 = open('Pyton101.txt','r')\n",
    "print(file_edit1.read())\n",
    "file_edit1.close()"
   ]
  },
  {
   "cell_type": "markdown",
   "id": "d6e8de64",
   "metadata": {},
   "source": [
    "### Write a Python program to read first n lines of a file."
   ]
  },
  {
   "cell_type": "code",
   "execution_count": 9,
   "id": "d3425a84",
   "metadata": {},
   "outputs": [
    {
     "name": "stdout",
     "output_type": "stream",
     "text": [
      "3\n",
      "this is python assignment module 4\n",
      "\n",
      "This is Second Line\n",
      "\n",
      "[W 2022-12-29 09:50:49.340 LabApp] 'notebook_dir' has moved from NotebookApp to ServerApp. This config will be passed to ServerApp. Be sure to update your config before our next release.\n",
      "\n"
     ]
    }
   ],
   "source": [
    "n = int(input())\n",
    "file_20 =  open('Pyton101.txt','r')\n",
    "x = file_20.readlines()\n",
    "y=x[0:n]\n",
    "for i in y:\n",
    "    print(i)\n",
    "file_20.close()"
   ]
  },
  {
   "cell_type": "markdown",
   "id": "9ea62fd9",
   "metadata": {},
   "source": [
    "### Write a Python program to read last n lines of a file."
   ]
  },
  {
   "cell_type": "code",
   "execution_count": 10,
   "id": "f3aaaeb4",
   "metadata": {},
   "outputs": [
    {
     "name": "stdout",
     "output_type": "stream",
     "text": [
      "5\n",
      "[I 09:50:49.366 NotebookApp] Jupyter Notebook 6.4.5 is running at:\n",
      "\n",
      "[I 09:50:49.366 NotebookApp] http://localhost:8888/?token=0adb9fa9e920f6ee201a28999f2363cd41b95a9f3b4c9e08\n",
      "\n",
      "[I 09:50:49.367 NotebookApp]  or http://127.0.0.1:8888/?token=0adb9fa9e920f6ee201a28999f2363cd41b95a9f3b4c9e08\n",
      "\n",
      "[I 09:50:49.367 NotebookApp] Use Control-C to stop this server and shut down all kernels (twice to skip confirmation).\n",
      "\n",
      "[C 09:50:49.585 NotebookApp]\n"
     ]
    }
   ],
   "source": [
    "n = int(input())\n",
    "file_21 =  open('Pyton101.txt','r')\n",
    "x = file_21.readlines()\n",
    "l = len(x)\n",
    "y = x[(l-n):]\n",
    "for i in y:\n",
    "    print(i)\n",
    "file_21.close()"
   ]
  },
  {
   "cell_type": "markdown",
   "id": "f4991258",
   "metadata": {},
   "source": [
    "### Write a Python program to read a file line by line and store it into a list"
   ]
  },
  {
   "cell_type": "code",
   "execution_count": null,
   "id": "de796bae",
   "metadata": {},
   "outputs": [],
   "source": [
    "file_edit2 = open('Pyton101.txt','r')\n",
    "lis=file_edit2.readlines()\n",
    "file_edit2.close()\n",
    "print(lis)"
   ]
  },
  {
   "cell_type": "markdown",
   "id": "742cd1b8",
   "metadata": {},
   "source": [
    "### Write a Python program to read a file line by line store it into a variable."
   ]
  },
  {
   "cell_type": "code",
   "execution_count": null,
   "id": "375cf18f",
   "metadata": {},
   "outputs": [],
   "source": [
    "filed=open('Pyton101.txt','r')\n",
    "var1 = filed.readlines()\n",
    "filed.close()\n",
    "print(var1)"
   ]
  },
  {
   "cell_type": "markdown",
   "id": "4dc81eaa",
   "metadata": {},
   "source": [
    "### Write a python program to find the longest words.\n"
   ]
  },
  {
   "cell_type": "code",
   "execution_count": null,
   "id": "b3af8ede",
   "metadata": {},
   "outputs": [],
   "source": [
    "filex=open('Pyton101.txt','r')\n",
    "lin = filex.readlines()\n",
    "temp = 0\n",
    "for i in lin:\n",
    "    x = i.split()\n",
    "    for y in x:\n",
    "        if len(y)>temp:\n",
    "            temp = len(y)\n",
    "            word = y\n",
    "print(word,'is the longest word')\n",
    "filex.close()"
   ]
  },
  {
   "cell_type": "markdown",
   "id": "3eb37b05",
   "metadata": {},
   "source": [
    "### Write a Python program to count the number of lines in a text file."
   ]
  },
  {
   "cell_type": "code",
   "execution_count": null,
   "id": "ab54355f",
   "metadata": {},
   "outputs": [],
   "source": [
    "filey = open('Pyton101.txt','r')\n",
    "x= filey.readlines()\n",
    "filey.close()\n",
    "print(len(x),'lines in file')"
   ]
  },
  {
   "cell_type": "markdown",
   "id": "2798154d",
   "metadata": {},
   "source": [
    "### Write a Python program to count the frequency of words in a file."
   ]
  },
  {
   "cell_type": "code",
   "execution_count": null,
   "id": "d4973de4",
   "metadata": {},
   "outputs": [],
   "source": [
    "filek=open('Pyton101.txt','r')\n",
    "lin1 = filek.readlines()\n",
    "list1 = []\n",
    "for i in lin1:\n",
    "    x = i.split()\n",
    "    for y in x:\n",
    "        list1.append(y)\n",
    "for k in list1:\n",
    "    print(k,list1.count(k))\n",
    "filek.close()"
   ]
  },
  {
   "cell_type": "markdown",
   "id": "3f176832",
   "metadata": {},
   "source": [
    "### Write a Python program to write a list to a file."
   ]
  },
  {
   "cell_type": "code",
   "execution_count": null,
   "id": "1a0e7b4e",
   "metadata": {},
   "outputs": [],
   "source": [
    "ls1 = ['yash goodluck','surat']\n",
    "file1 = open('tops2.txt','w')\n",
    "for i in ls1:\n",
    "    file1.writelines(i+'\\n')\n",
    "file1.close()"
   ]
  },
  {
   "cell_type": "markdown",
   "id": "1fe2eb77",
   "metadata": {},
   "source": [
    "### Write a Python program to copy the contents of a file to another file."
   ]
  },
  {
   "cell_type": "code",
   "execution_count": null,
   "id": "38711c80",
   "metadata": {},
   "outputs": [],
   "source": [
    "file101 = open('tops2.txt','r')\n",
    "f_content = file101.readlines()\n",
    "file101.close()\n",
    "file201 = open('tops2copy.txt','w')\n",
    "file201.writelines(f_content)\n",
    "file201.close()"
   ]
  },
  {
   "cell_type": "markdown",
   "id": "bda13b50",
   "metadata": {},
   "source": [
    "### Explain Exception handling? What is an Error in Python?"
   ]
  },
  {
   "cell_type": "markdown",
   "id": "d2fa24f5",
   "metadata": {},
   "source": [
    "#### Exception Handling is a process of handling unexpexted Errors, without stopping the programme execution.Errors are problems that occur in the program due to an illegal operation performed by the user or by the fault of a programmer, which halts the normal flow of the program."
   ]
  },
  {
   "cell_type": "markdown",
   "id": "045b4219",
   "metadata": {},
   "source": [
    "### How many except statements can a try-except block have? Name Some built-in exception classes:"
   ]
  },
  {
   "cell_type": "markdown",
   "id": "44ff9c39",
   "metadata": {},
   "source": [
    "#### One or more than one except statements can be use in try except block.Built in exception class are ValueError, NameError, KeyError, ZeroDivisionError, etc..."
   ]
  },
  {
   "cell_type": "markdown",
   "id": "a3870cf7",
   "metadata": {},
   "source": [
    "### When will the else part of try-except-else be executed?"
   ]
  },
  {
   "cell_type": "markdown",
   "id": "76ee8bc3",
   "metadata": {},
   "source": [
    "#### else part executes only after try block executes succesfully."
   ]
  },
  {
   "cell_type": "markdown",
   "id": "4588df9e",
   "metadata": {},
   "source": [
    "### Can one block of except statements handle multiple exception?"
   ]
  },
  {
   "cell_type": "markdown",
   "id": "179ae3da",
   "metadata": {},
   "source": [
    "#### One Block of except statements can handle one exception per block. To Use multiple Handling we can use nested try-catch block"
   ]
  },
  {
   "cell_type": "markdown",
   "id": "96bc996b",
   "metadata": {},
   "source": [
    "### When is the finally block executed?"
   ]
  },
  {
   "cell_type": "markdown",
   "id": "a1187538",
   "metadata": {},
   "source": [
    "#### finally block is executed after try or exception block"
   ]
  },
  {
   "cell_type": "markdown",
   "id": "f7d59e80",
   "metadata": {},
   "source": [
    "### What happens when '1‟== 1 is executed?"
   ]
  },
  {
   "cell_type": "markdown",
   "id": "cebe794e",
   "metadata": {},
   "source": [
    "#### '1' == 1 will check the value of both sides and if value is equal will return True else false"
   ]
  },
  {
   "cell_type": "markdown",
   "id": "8216c9d8",
   "metadata": {},
   "source": [
    "### How Do You Handle Exceptions With Try/Except/Finally In Python?Explain with coding snippets.\n"
   ]
  },
  {
   "cell_type": "code",
   "execution_count": null,
   "id": "fcc5ee80",
   "metadata": {},
   "outputs": [],
   "source": [
    "try:\n",
    "    number = int(input())\n",
    "    k=number/5\n",
    "    print(k)\n",
    "except ValueError:\n",
    "    print('Error!! Run again and Enter Integer Number')\n",
    "except:\n",
    "    print('An Error Occured')\n",
    "finally:\n",
    "    print('You have reached the last statment, nothing left to be executed')"
   ]
  },
  {
   "cell_type": "markdown",
   "id": "82b76fb1",
   "metadata": {},
   "source": [
    "### Write python program that user to enter only odd numbers, else will raise an exception."
   ]
  },
  {
   "cell_type": "code",
   "execution_count": null,
   "id": "1b463319",
   "metadata": {},
   "outputs": [],
   "source": [
    "class OddEvenError(Exception):\n",
    "    pass\n",
    "num = int(input())\n",
    "if num%2==0:\n",
    "    raise OddEvenError('Please Enter Odd Number')"
   ]
  },
  {
   "cell_type": "markdown",
   "id": "648b9ba8",
   "metadata": {},
   "source": [
    "### What are oops concepts? Is multiple inheritance supported in java"
   ]
  },
  {
   "cell_type": "markdown",
   "id": "9caef11c",
   "metadata": {},
   "source": [
    "#### Concepts of Object-Oriented Programming (OOPs) \n",
    "#### Class and Objects\n",
    "#### Inheritance\n",
    "#### Polymorphism\n",
    "#### Encapsulation\n",
    "#### Data Abstraction\n",
    "#### Yes Inheritance does support in java"
   ]
  },
  {
   "cell_type": "markdown",
   "id": "8f22f7e1",
   "metadata": {},
   "source": [
    "### How to Define a Class in Python? What Is Self? Give An Example Of A Python Class"
   ]
  },
  {
   "cell_type": "markdown",
   "id": "8882f423",
   "metadata": {},
   "source": [
    "#### A Class is like an object constructor, or a \"blueprint\" for creating objects.Self is the parameter in (__init__) function that points the instance of that class"
   ]
  },
  {
   "cell_type": "code",
   "execution_count": 3,
   "id": "039cbb78",
   "metadata": {},
   "outputs": [],
   "source": [
    "class Example:\n",
    "    def __init__(self,a):\n",
    "        self.a = a\n",
    "Ex = Example('yash')"
   ]
  },
  {
   "cell_type": "markdown",
   "id": "96c0cd9e",
   "metadata": {},
   "source": [
    "### Write a Python class named Rectangle constructed by a length and width and a method which will compute the area of a rectangle"
   ]
  },
  {
   "cell_type": "code",
   "execution_count": 25,
   "id": "8e9ea6b8",
   "metadata": {},
   "outputs": [],
   "source": [
    "class Rectangle:\n",
    "    def __init__(self,l,w):\n",
    "        self.length = l\n",
    "        self.width = w\n",
    "    def area(self):\n",
    "        return (self.length * self.width)"
   ]
  },
  {
   "cell_type": "code",
   "execution_count": 29,
   "id": "905c7d17",
   "metadata": {},
   "outputs": [
    {
     "data": {
      "text/plain": [
       "552"
      ]
     },
     "execution_count": 29,
     "metadata": {},
     "output_type": "execute_result"
    }
   ],
   "source": [
    "R1 = Rectangle(23,24)\n",
    "R1.area()"
   ]
  },
  {
   "cell_type": "markdown",
   "id": "082dc62e",
   "metadata": {},
   "source": [
    "### Write a Python class named Circle constructed by a radius and two methods which will compute the area and the perimeter of a circle\n"
   ]
  },
  {
   "cell_type": "code",
   "execution_count": 34,
   "id": "3a7fee2d",
   "metadata": {},
   "outputs": [],
   "source": [
    "class Circle:\n",
    "    def __init__(self,r):\n",
    "        self.radius = r\n",
    "    def area(self):\n",
    "        return (3.14 * self.radius**2)\n",
    "    def perimeter(self):\n",
    "        return (2*3.14 * self.radius)"
   ]
  },
  {
   "cell_type": "code",
   "execution_count": 36,
   "id": "44a6a65c",
   "metadata": {},
   "outputs": [
    {
     "data": {
      "text/plain": [
       "31.400000000000002"
      ]
     },
     "execution_count": 36,
     "metadata": {},
     "output_type": "execute_result"
    }
   ],
   "source": [
    "C1 = Circle(5)\n",
    "C1.area()\n",
    "C1.perimeter()"
   ]
  },
  {
   "cell_type": "markdown",
   "id": "543550b8",
   "metadata": {},
   "source": [
    "### Explain Inheritance in Python with an example? What is init? Or What Is A Constructor In Python?"
   ]
  },
  {
   "cell_type": "markdown",
   "id": "6d35a2b2",
   "metadata": {},
   "source": [
    "#### It is a process that allows to create a hierarchy of classes that share a set of properties and methods by deriving a class from another class. Inheritance is the capability of one class to derive or inherit the properties from another class.\n",
    "#### __init__(), which takes the constructor’s arguments to initialize the newly created object.\n",
    "#### Constructors are generally used for instantiating an object. "
   ]
  },
  {
   "cell_type": "markdown",
   "id": "885c1c5e",
   "metadata": {},
   "source": [
    "### What is Instantiation in terms of OOP terminology?"
   ]
  },
  {
   "cell_type": "markdown",
   "id": "78d49b39",
   "metadata": {},
   "source": [
    "#### Python’s instantiation process whenever you call a Python class to create a new instance."
   ]
  },
  {
   "cell_type": "markdown",
   "id": "32cbf732",
   "metadata": {},
   "source": [
    "### What is used to check whether an object o is an instance of class A?"
   ]
  },
  {
   "cell_type": "code",
   "execution_count": 43,
   "id": "68e4a143",
   "metadata": {},
   "outputs": [
    {
     "name": "stdout",
     "output_type": "stream",
     "text": [
      "True\n"
     ]
    }
   ],
   "source": [
    "# isinstance(object_name, class_name)\n",
    "class School:\n",
    "    pass\n",
    "student = School()\n",
    "X = isinstance(student,School)\n",
    "print(X)"
   ]
  },
  {
   "cell_type": "markdown",
   "id": "58e869b7",
   "metadata": {},
   "source": [
    "### What relationship is appropriate for Course and Faculty?\n"
   ]
  },
  {
   "cell_type": "code",
   "execution_count": null,
   "id": "8536d5d4",
   "metadata": {},
   "outputs": [],
   "source": []
  },
  {
   "cell_type": "markdown",
   "id": "27e59d1c",
   "metadata": {},
   "source": [
    "### What relationship is appropriate for Student and Person"
   ]
  },
  {
   "cell_type": "code",
   "execution_count": null,
   "id": "fe461d1b",
   "metadata": {},
   "outputs": [],
   "source": []
  }
 ],
 "metadata": {
  "kernelspec": {
   "display_name": "Python 3 (ipykernel)",
   "language": "python",
   "name": "python3"
  },
  "language_info": {
   "codemirror_mode": {
    "name": "ipython",
    "version": 3
   },
   "file_extension": ".py",
   "mimetype": "text/x-python",
   "name": "python",
   "nbconvert_exporter": "python",
   "pygments_lexer": "ipython3",
   "version": "3.9.7"
  }
 },
 "nbformat": 4,
 "nbformat_minor": 5
}
