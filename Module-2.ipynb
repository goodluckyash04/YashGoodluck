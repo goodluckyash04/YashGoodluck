{
 "cells": [
  {
   "cell_type": "markdown",
   "id": "1b5b3988",
   "metadata": {},
   "source": [
    "# Python Assignments"
   ]
  },
  {
   "cell_type": "markdown",
   "id": "094b2cf1",
   "metadata": {},
   "source": [
    "## Module-2"
   ]
  },
  {
   "cell_type": "markdown",
   "id": "e5249206",
   "metadata": {},
   "source": [
    "### Write a Python program to check if a number is positive, negative or zero"
   ]
  },
  {
   "cell_type": "code",
   "execution_count": null,
   "id": "10c8ad87",
   "metadata": {},
   "outputs": [],
   "source": [
    "num = int(input())\n",
    "if num<=0:\n",
    "    if num==0:\n",
    "        print(\"You have Entered Number Zero\")\n",
    "    else:\n",
    "        print(\"Entered Number is Negative\")\n",
    "else:\n",
    "     print(\"Entered Number is Positive\")\n"
   ]
  },
  {
   "cell_type": "markdown",
   "id": "d0d6ab2a",
   "metadata": {},
   "source": [
    "### Write a Python program to get the Factorial number of given number"
   ]
  },
  {
   "cell_type": "code",
   "execution_count": null,
   "id": "a8717b3c",
   "metadata": {},
   "outputs": [],
   "source": [
    "a = int(input())\n",
    "num=a\n",
    "for i in range(1,a):\n",
    "    num*=(a-i)\n",
    "print(a,\"! is \",num)"
   ]
  },
  {
   "cell_type": "markdown",
   "id": "e1081a2d",
   "metadata": {},
   "source": [
    "### Write a Python program to get the Fibonacci series of given range.\n"
   ]
  },
  {
   "cell_type": "code",
   "execution_count": null,
   "id": "bb037c8d",
   "metadata": {},
   "outputs": [],
   "source": [
    "b=int(input())\n",
    "fb_sr = 0\n",
    "fb_sr1 = 1\n",
    "print(fb_sr)\n",
    "for i in range(b-1):\n",
    "    x = fb_sr\n",
    "    fb_sr = fb_sr1\n",
    "    fb_sr1=x+fb_sr1\n",
    "    print(fb_sr)"
   ]
  },
  {
   "cell_type": "markdown",
   "id": "08900eb9",
   "metadata": {},
   "source": [
    "### How memory is managed in Python?"
   ]
  },
  {
   "cell_type": "markdown",
   "id": "4f5f7b56",
   "metadata": {},
   "source": [
    "##### 'Memory in python is managed Dynamically with private heap space'"
   ]
  },
  {
   "cell_type": "markdown",
   "id": "2225416f",
   "metadata": {},
   "source": [
    "### What is the purpose of continue statement in python?"
   ]
  },
  {
   "cell_type": "markdown",
   "id": "0ec6b8d4",
   "metadata": {},
   "source": [
    "##### 'Continue Statement is a part of control Statement.continue keyword ends the current iteration and starts the new iteration in loops'"
   ]
  },
  {
   "cell_type": "markdown",
   "id": "ab1560dc",
   "metadata": {},
   "source": [
    "### Write python program that swap two number with temp variable and without temp variable."
   ]
  },
  {
   "cell_type": "markdown",
   "id": "217316aa",
   "metadata": {},
   "source": [
    "#### -with Temp"
   ]
  },
  {
   "cell_type": "code",
   "execution_count": null,
   "id": "47c4f311",
   "metadata": {},
   "outputs": [],
   "source": [
    "c = int(input())\n",
    "d = int(input())\n",
    "print(\"c=\",c,\"d=\",d)\n",
    "temp = c\n",
    "c = d\n",
    "d = temp\n",
    "print('after swap')\n",
    "print(\"c=\",c,\"d=\",d)"
   ]
  },
  {
   "cell_type": "markdown",
   "id": "247cd2b9",
   "metadata": {},
   "source": [
    "#### without Temp"
   ]
  },
  {
   "cell_type": "code",
   "execution_count": null,
   "id": "5bd028df",
   "metadata": {},
   "outputs": [],
   "source": [
    "k = int(input())\n",
    "j = int(input())\n",
    "print(\"k=\",k,\"j=\",j)\n",
    "k = k+j\n",
    "j = k-j\n",
    "k = k-j\n",
    "print(\"k=\",k,\"j=\",j)"
   ]
  },
  {
   "cell_type": "markdown",
   "id": "f47e322a",
   "metadata": {},
   "source": [
    "### Write a Python program to find whether a given number is even or odd, print out an appropriate message to the user."
   ]
  },
  {
   "cell_type": "code",
   "execution_count": null,
   "id": "339fb7aa",
   "metadata": {},
   "outputs": [],
   "source": [
    "number = int(input())\n",
    "if number%2==0:\n",
    "    print('Number is Even')\n",
    "else:\n",
    "    print('Number is Odd')"
   ]
  },
  {
   "cell_type": "markdown",
   "id": "14fc917d",
   "metadata": {},
   "source": [
    "### Write a Python program to test whether a passed letter is a vowel or not."
   ]
  },
  {
   "cell_type": "code",
   "execution_count": null,
   "id": "57a01f99",
   "metadata": {},
   "outputs": [],
   "source": [
    "vowels = 'aeiou'\n",
    "letter = input()\n",
    "for i in vowels:\n",
    "    if (letter==i):\n",
    "        print('passed letter is vowel')\n",
    "        break\n",
    "else:\n",
    "    print('passed letter is not vowel')"
   ]
  },
  {
   "cell_type": "markdown",
   "id": "84f308e4",
   "metadata": {},
   "source": [
    "### Write a Python program to sum of three given integers.However, if two values are equal sum will be zero."
   ]
  },
  {
   "cell_type": "code",
   "execution_count": null,
   "id": "ca791bbc",
   "metadata": {},
   "outputs": [],
   "source": [
    "a=int(input())\n",
    "b=int(input())\n",
    "c=int(input())\n",
    "if a==b or b==c or c==a:\n",
    "    sum = 0\n",
    "else:\n",
    "    sum = a+b+c\n",
    "print('sum of the number is',sum)"
   ]
  },
  {
   "cell_type": "markdown",
   "id": "585fe187",
   "metadata": {},
   "source": [
    "### Write a Python program that will return true if the two given integer values are equal or their sum or difference is 5."
   ]
  },
  {
   "cell_type": "code",
   "execution_count": null,
   "id": "b1771cad",
   "metadata": {},
   "outputs": [],
   "source": [
    "num1=int(input())\n",
    "num2=int(input())\n",
    "if num1 == num2 or num1+num2==5 or num1-num2==5:\n",
    "    print(True)\n",
    "else:\n",
    "    print(False)"
   ]
  },
  {
   "cell_type": "markdown",
   "id": "84cc4027",
   "metadata": {},
   "source": [
    "### Write a python program to sum of the first n positive integers."
   ]
  },
  {
   "cell_type": "code",
   "execution_count": null,
   "id": "2daa1000",
   "metadata": {},
   "outputs": [],
   "source": [
    "n=int(input())\n",
    "sum = n*(n+1)/2\n",
    "print(sum)"
   ]
  },
  {
   "cell_type": "markdown",
   "id": "dece4670",
   "metadata": {},
   "source": [
    "### Write a Python program to calculate the length of a string."
   ]
  },
  {
   "cell_type": "code",
   "execution_count": null,
   "id": "98b61e42",
   "metadata": {},
   "outputs": [],
   "source": [
    "string = input()\n",
    "print(len(string))"
   ]
  },
  {
   "cell_type": "markdown",
   "id": "a08dd539",
   "metadata": {},
   "source": [
    "### Write a Python program to count the number of characters (characterfrequency) in a string"
   ]
  },
  {
   "cell_type": "code",
   "execution_count": null,
   "id": "410e7bfc",
   "metadata": {},
   "outputs": [],
   "source": [
    "x = 'yassh'\n",
    "for i in x:\n",
    "    print(i,'is',x.count(i))"
   ]
  },
  {
   "cell_type": "markdown",
   "id": "a29ebcc2",
   "metadata": {},
   "source": [
    "### What are negative indexes and why are they used?"
   ]
  },
  {
   "cell_type": "markdown",
   "id": "ab186822",
   "metadata": {},
   "source": [
    "#### Negative indexing is when python counts indexing from the end. This means the last value of a sequence has an index of -1,then -2,... It is used when we want to pick values from the end of an iterable."
   ]
  },
  {
   "cell_type": "markdown",
   "id": "2842dd0c",
   "metadata": {},
   "source": [
    "###  Write a Python program to count occurrences of a substring in a string."
   ]
  },
  {
   "cell_type": "code",
   "execution_count": null,
   "id": "1c812f50",
   "metadata": {},
   "outputs": [],
   "source": [
    "str1 = input()\n",
    "print(str1.count('th'))"
   ]
  },
  {
   "cell_type": "markdown",
   "id": "a3a86dc4",
   "metadata": {},
   "source": [
    "### Write a Python program to count the occurrences of each word in a given sentence"
   ]
  },
  {
   "cell_type": "code",
   "execution_count": null,
   "id": "bfdead5d",
   "metadata": {},
   "outputs": [],
   "source": [
    "x = input()\n",
    "l=x.split()\n",
    "for i in l:\n",
    "    print(i,'is', x.count(i))"
   ]
  },
  {
   "cell_type": "markdown",
   "id": "a8149780",
   "metadata": {},
   "source": [
    "### Write a Python program to get a single string from two given strings,separated by a space and swap the first two characters of each string."
   ]
  },
  {
   "cell_type": "code",
   "execution_count": null,
   "id": "c2fb1ee2",
   "metadata": {},
   "outputs": [],
   "source": [
    "a = input('enter string 1')\n",
    "b = input('enter string 2')\n",
    "a1 = a[:2]+b[2:]\n",
    "b1 = b[:2]+a[2:]\n",
    "print(a1 + ' ' + b1)"
   ]
  },
  {
   "cell_type": "markdown",
   "id": "920dbe12",
   "metadata": {},
   "source": [
    "### Write a Python program to add 'ing' at the end of a given string (length should be at least 3). If the given string already ends with 'ing' then add 'ly' instead ,if the string length of the given string is less than 3, leave it unchanged."
   ]
  },
  {
   "cell_type": "code",
   "execution_count": null,
   "id": "6fa7ceb1",
   "metadata": {},
   "outputs": [],
   "source": [
    "hen = input()\n",
    "if(len(hen)>=3):\n",
    "    if(hen.endswith('ing' or 'ING')==True):\n",
    "        print(hen+'ly')\n",
    "    else:\n",
    "        print(hen+'ing')\n",
    "else:\n",
    "    print(hen)"
   ]
  },
  {
   "cell_type": "markdown",
   "id": "550b2ecb",
   "metadata": {},
   "source": [
    "### Write a Python program to find the first appearance of the substring 'not' and 'poor' froma given string, if 'not' follows the 'poor', replace the whole 'not'...'poor'substring with 'good'. Return the resulting string."
   ]
  },
  {
   "cell_type": "code",
   "execution_count": 14,
   "id": "855f71d7",
   "metadata": {},
   "outputs": [
    {
     "name": "stdout",
     "output_type": "stream",
     "text": [
      "'poor not'\n",
      "not is at 6 and poor is at 1\n"
     ]
    }
   ],
   "source": [
    "g = input()\n",
    "if (g.find('not poor')!=-1):\n",
    "    print(g.replace('not poor','good'))\n",
    "elif g.find('poor')==-1 and g.find('not')==-1 :\n",
    "    print('not and poor is unavailabel') \n",
    "elif g.find('not')==-1:\n",
    "    print('not is anavailabe','and poor is at',g.find('poor'))\n",
    "elif g.find('poor')==-1:\n",
    "    print('not is at',g.find('not'),'and poor is unavailabel')   \n",
    "else:\n",
    "    print('not is at',g.find('not'),'and poor is at',g.find('poor'))"
   ]
  },
  {
   "cell_type": "markdown",
   "id": "a308e1f7",
   "metadata": {},
   "source": [
    "### Write a Python function that takes a list of words and returns the length of the longest one."
   ]
  },
  {
   "cell_type": "code",
   "execution_count": 29,
   "id": "1f0b4fa8",
   "metadata": {},
   "outputs": [
    {
     "name": "stdout",
     "output_type": "stream",
     "text": [
      "ysd biefweif wiefwefiwef iewfbwef\n",
      "longest word is 11\n"
     ]
    }
   ],
   "source": [
    "k = input()\n",
    "newlist = k.split()\n",
    "x=len(newlist[0])\n",
    "for i in newlist:\n",
    "    if(len(i)>x):\n",
    "        x = len(i)\n",
    "print('longest word is',x)"
   ]
  },
  {
   "cell_type": "markdown",
   "id": "33777c29",
   "metadata": {},
   "source": [
    "### Write a Python function to reverses a string if its length is a multiple of 4"
   ]
  },
  {
   "cell_type": "code",
   "execution_count": 36,
   "id": "82b4dd01",
   "metadata": {},
   "outputs": [
    {
     "name": "stdout",
     "output_type": "stream",
     "text": [
      "bwef iwef\n",
      "9 legth should be multiple of 4\n"
     ]
    }
   ],
   "source": [
    "data=input()\n",
    "if(len(data)%4==0):\n",
    "    newdata=''\n",
    "    for i in data:\n",
    "        newdata = i+newdata\n",
    "    print(newdata)\n",
    "else:\n",
    "    print(len(data),'legth should be multiple of 4')\n",
    "        "
   ]
  },
  {
   "cell_type": "markdown",
   "id": "2fbbb7a7",
   "metadata": {},
   "source": [
    "### Write a Python program to get a string made of the first 2 and the last 2 chars from a given a string. Ifthe string length isless than 2,return instead of the empty string.\n",
    " ##### Sample String:w3resource'\n",
    " ##### Expected Result: 'w3ce'\n",
    " ##### Sample String: 'w3'\n",
    " ##### Expected Result: 'w3w3'\n",
    " ##### Sample String: ' w'\n",
    " ##### Expected Result: Empty String"
   ]
  },
  {
   "cell_type": "code",
   "execution_count": 52,
   "id": "306e7ea4",
   "metadata": {},
   "outputs": [
    {
     "name": "stdout",
     "output_type": "stream",
     "text": [
      "kednw wlekf\n",
      "kekf\n"
     ]
    }
   ],
   "source": [
    "ten = input()\n",
    "if(len(ten)>=2):\n",
    "    print(ten[:2]+ten[-2:])\n",
    "else:\n",
    "    print('')"
   ]
  },
  {
   "cell_type": "markdown",
   "id": "d5a665dd",
   "metadata": {},
   "source": [
    "### Write a Python function to insert a string in the middle of a string."
   ]
  },
  {
   "cell_type": "code",
   "execution_count": 61,
   "id": "cef96c1b",
   "metadata": {},
   "outputs": [
    {
     "name": "stdout",
     "output_type": "stream",
     "text": [
      "abde\n",
      "string to addc\n",
      "abcde\n"
     ]
    }
   ],
   "source": [
    "str1 = input()\n",
    "str2 = input('string to add')\n",
    "print(str1[:len(str1)//2]+str2+str1[len(str1)//2:])"
   ]
  }
 ],
 "metadata": {
  "kernelspec": {
   "display_name": "Python 3 (ipykernel)",
   "language": "python",
   "name": "python3"
  },
  "language_info": {
   "codemirror_mode": {
    "name": "ipython",
    "version": 3
   },
   "file_extension": ".py",
   "mimetype": "text/x-python",
   "name": "python",
   "nbconvert_exporter": "python",
   "pygments_lexer": "ipython3",
   "version": "3.9.7"
  }
 },
 "nbformat": 4,
 "nbformat_minor": 5
}
