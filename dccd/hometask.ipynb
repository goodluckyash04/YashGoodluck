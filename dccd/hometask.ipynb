{
 "cells": [
  {
   "cell_type": "code",
   "execution_count": 2,
   "id": "5a1e65f6",
   "metadata": {},
   "outputs": [],
   "source": [
    "#          *\n",
    "#         **\n",
    "#        ***\n",
    "#       ****\n",
    "# **********\n",
    "# ****\n",
    "# ***\n",
    "# **\n",
    "# *"
   ]
  },
  {
   "cell_type": "code",
   "execution_count": 20,
   "id": "85f4d019",
   "metadata": {},
   "outputs": [
    {
     "name": "stdout",
     "output_type": "stream",
     "text": [
      "44\n",
      "                                          *\n",
      "                                         **\n",
      "                                        ***\n",
      "                                       ****\n",
      "                                      *****\n",
      "                                     ******\n",
      "                                    *******\n",
      "                                   ********\n",
      "                                  *********\n",
      "                                 **********\n",
      "                                ***********\n",
      "                               ************\n",
      "                              *************\n",
      "                             **************\n",
      "                            ***************\n",
      "                           ****************\n",
      "                          *****************\n",
      "                         ******************\n",
      "                        *******************\n",
      "                       ********************\n",
      "                      *********************\n",
      "*******************************************\n",
      "*********************\n",
      "********************\n",
      "*******************\n",
      "******************\n",
      "*****************\n",
      "****************\n",
      "***************\n",
      "**************\n",
      "*************\n",
      "************\n",
      "***********\n",
      "**********\n",
      "*********\n",
      "********\n",
      "*******\n",
      "******\n",
      "*****\n",
      "****\n",
      "***\n",
      "**\n",
      "*\n"
     ]
    }
   ],
   "source": [
    "n= int(input())\n",
    "for i in range(1,n):\n",
    "    if (i<n/2):\n",
    "        print((n-2-i)*' ',i*'*')\n",
    "    elif(i==n/2):\n",
    "        print((n-1)*'*')\n",
    "    else:\n",
    "        print((n-i)*'*')\n",
    "    "
   ]
  }
 ],
 "metadata": {
  "kernelspec": {
   "display_name": "Python 3 (ipykernel)",
   "language": "python",
   "name": "python3"
  },
  "language_info": {
   "codemirror_mode": {
    "name": "ipython",
    "version": 3
   },
   "file_extension": ".py",
   "mimetype": "text/x-python",
   "name": "python",
   "nbconvert_exporter": "python",
   "pygments_lexer": "ipython3",
   "version": "3.9.7"
  }
 },
 "nbformat": 4,
 "nbformat_minor": 5
}
