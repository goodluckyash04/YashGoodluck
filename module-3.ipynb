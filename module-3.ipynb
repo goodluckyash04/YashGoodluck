{
 "cells": [
  {
   "cell_type": "markdown",
   "id": "7a890d92",
   "metadata": {},
   "source": [
    "# Module-3"
   ]
  },
  {
   "cell_type": "markdown",
   "id": "2ec84197",
   "metadata": {},
   "source": [
    "### What is List? How will you reverse a list?\n"
   ]
  },
  {
   "cell_type": "markdown",
   "id": "cd72e04d",
   "metadata": {},
   "source": [
    "#### List is one of the datatype of python. List is used to store multiple items in a single variable.List can be reversed using built-in function called \"reverse()\"."
   ]
  },
  {
   "cell_type": "markdown",
   "id": "daa60d9e",
   "metadata": {},
   "source": [
    "### How will you remove last object from a list?\n"
   ]
  },
  {
   "cell_type": "markdown",
   "id": "86d2f2e2",
   "metadata": {},
   "source": [
    "#### Lsat object form the list can be removed using built-in function pop()"
   ]
  },
  {
   "cell_type": "markdown",
   "id": "ba54bcb4",
   "metadata": {},
   "source": [
    "### Suppose list1 is [2, 33, 222, 14, and 25], what is list1 [-1]?\n"
   ]
  },
  {
   "cell_type": "markdown",
   "id": "ca388303",
   "metadata": {},
   "source": [
    "#### list1[-1] gives the last element of list which is 25"
   ]
  },
  {
   "cell_type": "markdown",
   "id": "fd910199",
   "metadata": {},
   "source": [
    "### Differentiate between append () and extend () methods?\n"
   ]
  },
  {
   "cell_type": "markdown",
   "id": "8f4582d1",
   "metadata": {},
   "source": [
    "#### append() method adds an element as 1 element while extend method can only add iterables as an individuals"
   ]
  },
  {
   "cell_type": "markdown",
   "id": "e848d5b6",
   "metadata": {},
   "source": [
    "### Write a Python function to get the largest number, smallest num and sum of all from a list."
   ]
  },
  {
   "cell_type": "code",
   "execution_count": null,
   "id": "ac1653f4",
   "metadata": {},
   "outputs": [],
   "source": [
    "n = int(input(\"Number of Element:\"))\n",
    "l5 = []\n",
    "for i in range(n):\n",
    "    a = int(input())\n",
    "    l5.append(a)\n",
    "print(l5)\n",
    "\n",
    "def large(x):\n",
    "    temp = x[0]\n",
    "    for i in x:\n",
    "        if i > temp:\n",
    "            temp = i\n",
    "    print(temp,'is the largest number')\n",
    "    \n",
    "def small(x):\n",
    "    temp = x[0]\n",
    "    for i in x:\n",
    "        if i < temp:\n",
    "            temp = i\n",
    "    print(temp,'is the smallest number')\n",
    "    \n",
    "def sumofall(x):\n",
    "    sum = 0\n",
    "    for i in x:\n",
    "        sum+=i\n",
    "    print(sum,'is the sum of list')\n",
    "    \n",
    "large(l5)\n",
    "small(l5)\n",
    "sumofall(l5)"
   ]
  },
  {
   "cell_type": "markdown",
   "id": "73597296",
   "metadata": {},
   "source": [
    "### How will you compare two lists?"
   ]
  },
  {
   "cell_type": "code",
   "execution_count": null,
   "id": "9b9cfb4b",
   "metadata": {},
   "outputs": [],
   "source": [
    "list1 = [70, 2, 3, 86, 50] \n",
    "list2 = [70, 3, 20, 86, 50] \n",
    "# list3 = ['yash','uds','ddfe']\n",
    "# list4 = ['uds','ddfe','ydash']\n",
    "# list3.sort()\n",
    "# list4.sort()\n",
    "list1.sort()\n",
    "list2.sort()\n",
    "if list1 == list2:\n",
    "# if list3 == list4:\n",
    "    print('lists are same')\n",
    "else:\n",
    "    print('lists are not same')"
   ]
  },
  {
   "cell_type": "markdown",
   "id": "b43c76fc",
   "metadata": {},
   "source": [
    "### Write a Python program to count the number of strings where the string length is 2 or more and the first and last character are same from a given list of strings"
   ]
  },
  {
   "cell_type": "code",
   "execution_count": null,
   "id": "1ba36433",
   "metadata": {},
   "outputs": [],
   "source": [
    "x = int(input(\"Number of Element:\"))\n",
    "newl = []\n",
    "l = []\n",
    "for i in range(x):\n",
    "    a = input()\n",
    "    l.append(a)\n",
    "print(l)\n",
    "for i in l:\n",
    "    if len(i)>=2:\n",
    "        if i[0] == i[-1]:\n",
    "            newl.append(i)\n",
    "print(len(newl),'elements with more than 2 length and same first and last character')            "
   ]
  },
  {
   "cell_type": "markdown",
   "id": "eb76a547",
   "metadata": {},
   "source": [
    "### Write a Python program to remove duplicates from a list."
   ]
  },
  {
   "cell_type": "code",
   "execution_count": null,
   "id": "ba5d9bcf",
   "metadata": {},
   "outputs": [],
   "source": [
    "x = int(input(\"Number of Element:\"))\n",
    "newl = []\n",
    "l1 = []\n",
    "for i in range(x):\n",
    "    a = input()\n",
    "    l1.append(a)\n",
    "print(l1)\n",
    "newl1=[]\n",
    "for i in l1:\n",
    "    if(i in newl1):\n",
    "        pass\n",
    "    else:\n",
    "        newl1.append(i)\n",
    "print(newl1)\n",
    "\n",
    "#or\n",
    "\n",
    "# newl1=set(l1)\n",
    "# newlist = []\n",
    "# for i in newl1:\n",
    "#     newlist.append(i)\n",
    "# print(newlist)"
   ]
  },
  {
   "cell_type": "markdown",
   "id": "f8f4a52e",
   "metadata": {},
   "source": [
    "### Write a Python program to check a list is empty or not.\n"
   ]
  },
  {
   "cell_type": "code",
   "execution_count": null,
   "id": "3f46e5e0",
   "metadata": {},
   "outputs": [],
   "source": [
    "l2 = []\n",
    "if(len(l2)==0):\n",
    "    print('list is Empty')\n",
    "else:\n",
    "    print('list has',len(l2),'elements')"
   ]
  },
  {
   "cell_type": "markdown",
   "id": "168d8b52",
   "metadata": {},
   "source": [
    "### Write a Python function that takes two lists and returns true if they have at least one common member.\n"
   ]
  },
  {
   "cell_type": "code",
   "execution_count": null,
   "id": "47930fbf",
   "metadata": {},
   "outputs": [],
   "source": [
    "def listcompare(a,b):\n",
    "    x = False\n",
    "    for i in a:\n",
    "        if x == False:\n",
    "            for j in b:\n",
    "                if i == j:\n",
    "                    x=True   \n",
    "    print(x)\n",
    "listcompare([1,2,3,7,4],[5,2,3,7,6,8])"
   ]
  },
  {
   "cell_type": "markdown",
   "id": "bc17bfa2",
   "metadata": {},
   "source": [
    "### Write a Python program to generate and print a list of first and last 5 elements where the values are square of numbers between 1 and 30."
   ]
  },
  {
   "cell_type": "code",
   "execution_count": null,
   "id": "de1710b6",
   "metadata": {},
   "outputs": [],
   "source": [
    "listsq = []\n",
    "for i in range(1,31):\n",
    "    if(i<=5 or (i>25 and i<=30)):\n",
    "        listsq.append(i*i)\n",
    "print(listsq)"
   ]
  },
  {
   "cell_type": "markdown",
   "id": "621b84c2",
   "metadata": {},
   "source": [
    "### Write a Python function that takes a list and returns a new list with unique elements of the first list"
   ]
  },
  {
   "cell_type": "code",
   "execution_count": null,
   "id": "71c3c114",
   "metadata": {},
   "outputs": [],
   "source": [
    "list6=[1,2,1,3,4,5,6,5,5,7,'yash']\n",
    "def unique(x):\n",
    "    x1=[]\n",
    "    for i in x:\n",
    "        if x.count(i)==1:\n",
    "            x1.append(i)\n",
    "    print(x1)\n",
    "unique(list6)    "
   ]
  },
  {
   "cell_type": "markdown",
   "id": "6a72b003",
   "metadata": {},
   "source": [
    "### Write a Python program to convert a list of characters into a string."
   ]
  },
  {
   "cell_type": "code",
   "execution_count": null,
   "id": "499c1167",
   "metadata": {},
   "outputs": [],
   "source": [
    "chlist = ['x','y','a','s','h']\n",
    "st=''\n",
    "for i in chlist:\n",
    "    st+=i\n",
    "print(st)"
   ]
  },
  {
   "cell_type": "markdown",
   "id": "81ce3a55",
   "metadata": {},
   "source": [
    "### Write a Python program to select an item randomly from a list. - ((()))\n"
   ]
  },
  {
   "cell_type": "code",
   "execution_count": 10,
   "id": "5ac20924",
   "metadata": {},
   "outputs": [
    {
     "data": {
      "text/plain": [
       "-9"
      ]
     },
     "execution_count": 10,
     "metadata": {},
     "output_type": "execute_result"
    }
   ],
   "source": [
    "import random\n",
    "list7 = [1,5,'ysah','yoy',-9]\n",
    "random.choice(list7)"
   ]
  },
  {
   "cell_type": "markdown",
   "id": "5b00bb7e",
   "metadata": {},
   "source": [
    "### Write a Python program to find the second smallest number in a list."
   ]
  },
  {
   "cell_type": "code",
   "execution_count": null,
   "id": "7993b92b",
   "metadata": {},
   "outputs": [],
   "source": [
    "listy = [1,25,30,42,5,6]\n",
    "listy.sort()\n",
    "print(listy[1],'is second smallest number')"
   ]
  },
  {
   "cell_type": "markdown",
   "id": "54e6b7ad",
   "metadata": {},
   "source": [
    "### Write a Python program to get unique values from a list"
   ]
  },
  {
   "cell_type": "code",
   "execution_count": null,
   "id": "6c300c23",
   "metadata": {},
   "outputs": [],
   "source": [
    "x=[1,2,1,3,4,5,6,5,7,'yash']\n",
    "x1=[]\n",
    "for i in x:\n",
    "    if x.count(i)==1:\n",
    "        x1.append(i)\n",
    "print(x1)"
   ]
  },
  {
   "cell_type": "markdown",
   "id": "8a954d9a",
   "metadata": {},
   "source": [
    "### Wribte a Python program to check whether a list contains a sub list"
   ]
  },
  {
   "cell_type": "code",
   "execution_count": null,
   "id": "e40c40a3",
   "metadata": {},
   "outputs": [],
   "source": [
    "list5 = [1,2,3,[4,5,6,7],7,8]\n",
    "for i in list5:\n",
    "    if type(i)==list:\n",
    "        print('list contains sublist')\n",
    "        break\n",
    "else:\n",
    "    print('no sublist found')"
   ]
  },
  {
   "cell_type": "markdown",
   "id": "a4d3238e",
   "metadata": {},
   "source": [
    "### Write a Python program to split a list into different variables."
   ]
  },
  {
   "cell_type": "code",
   "execution_count": null,
   "id": "8807e646",
   "metadata": {},
   "outputs": [],
   "source": [
    "l8 = [(78,87),{'a':78},8,'stri']\n",
    "a,b,c,d = l8\n",
    "print(a)\n",
    "print(b)\n",
    "print(c)\n",
    "print(d)"
   ]
  },
  {
   "cell_type": "markdown",
   "id": "a1896096",
   "metadata": {},
   "source": [
    "### What is tuple? Difference between list and tuple.\n"
   ]
  },
  {
   "cell_type": "markdown",
   "id": "3cc48c26",
   "metadata": {},
   "source": [
    "#### Tuple is a sequence data type containing elements of different data types.\n",
    "#### The primary difference between tuples and lists is that tuples are immutable as opposed to lists which are mutable. Therefore, it is possible to change a list but not a tuple."
   ]
  },
  {
   "cell_type": "markdown",
   "id": "b4833f6a",
   "metadata": {},
   "source": [
    "### Write a Python program to create a tuple with different data types."
   ]
  },
  {
   "cell_type": "code",
   "execution_count": null,
   "id": "925a495a",
   "metadata": {},
   "outputs": [],
   "source": [
    "tuple1 = ('yash',1,1.5,[1,5],(4,),{'de':4},True,{4,5})\n",
    "tuple1"
   ]
  },
  {
   "cell_type": "markdown",
   "id": "ad0b4b61",
   "metadata": {},
   "source": [
    "### Write a Python program to create a tuple with numbers."
   ]
  },
  {
   "cell_type": "code",
   "execution_count": null,
   "id": "1b6ae707",
   "metadata": {},
   "outputs": [],
   "source": [
    "tuple2 = (2,3,4,5)\n",
    "tuple2"
   ]
  },
  {
   "cell_type": "markdown",
   "id": "f80dec8c",
   "metadata": {},
   "source": [
    "### Write a Python program to convert a tuple to a string."
   ]
  },
  {
   "cell_type": "code",
   "execution_count": null,
   "id": "d13ec683",
   "metadata": {},
   "outputs": [],
   "source": [
    "tuple3=('uasj','asda','yash')\n",
    "s1 = ''\n",
    "for i in tuple3:\n",
    "    s1+=i\n",
    "print(s1)"
   ]
  },
  {
   "cell_type": "markdown",
   "id": "5b2314a7",
   "metadata": {},
   "source": [
    "### Write a Python program to check whether an element exists within a tuple"
   ]
  },
  {
   "cell_type": "code",
   "execution_count": null,
   "id": "40b9d059",
   "metadata": {},
   "outputs": [],
   "source": [
    "tuple4 = ()\n",
    "if len(tuple4)!=0:\n",
    "    print('Elements exists in tuple')\n",
    "else:\n",
    "    print('Tuple is Empty')"
   ]
  },
  {
   "cell_type": "markdown",
   "id": "c9ee37e3",
   "metadata": {},
   "source": [
    "### Write a Python program to find the length of a tuple."
   ]
  },
  {
   "cell_type": "code",
   "execution_count": null,
   "id": "9a065ded",
   "metadata": {},
   "outputs": [],
   "source": [
    "tup = (1,5,8,9,{'t':\"rge\"})\n",
    "print(len(tup))"
   ]
  },
  {
   "cell_type": "markdown",
   "id": "cb13ce32",
   "metadata": {},
   "source": [
    "### Write a Python program to convert a list to a tuple."
   ]
  },
  {
   "cell_type": "code",
   "execution_count": null,
   "id": "0b068d03",
   "metadata": {},
   "outputs": [],
   "source": [
    "tup1 = (1,5,8,[1,2],9,{'t':\"rge\"})\n",
    "print(list(tup1))"
   ]
  },
  {
   "cell_type": "markdown",
   "id": "803442f8",
   "metadata": {},
   "source": [
    "### Write a Python program to reverse a tuple."
   ]
  },
  {
   "cell_type": "code",
   "execution_count": null,
   "id": "9403ad2e",
   "metadata": {},
   "outputs": [],
   "source": [
    "tup2 = ('yash',1,2,{'fef':48},[1,2],(4,'y'))\n",
    "tup3= tup2[::-1]\n",
    "print(tup3)"
   ]
  },
  {
   "cell_type": "markdown",
   "id": "5b7d5aa2",
   "metadata": {},
   "source": [
    "### Write a Python program to replace last value of tuples in a list."
   ]
  },
  {
   "cell_type": "code",
   "execution_count": 14,
   "id": "43260872",
   "metadata": {},
   "outputs": [
    {
     "name": "stdout",
     "output_type": "stream",
     "text": [
      "[(1, 2, 49), (8, 56, 49), (48, 45, 49), (78, 49)]\n"
     ]
    }
   ],
   "source": [
    "li2 = [(1,2,3),(8,56,12),(48,45,12),(78,56)]\n",
    "x = 0\n",
    "for i in li2:\n",
    "    i = list(i)\n",
    "    i[-1] = 49\n",
    "    li2[x] = tuple(i)\n",
    "    x+=1\n",
    "print(li2)"
   ]
  },
  {
   "cell_type": "markdown",
   "id": "61801e3f",
   "metadata": {},
   "source": [
    "### Write a Python program to find the repeated items of a tuple."
   ]
  },
  {
   "cell_type": "code",
   "execution_count": null,
   "id": "13679bbc",
   "metadata": {},
   "outputs": [],
   "source": [
    "tupw = (1,5,5,2,4,1,6,6,6,6)\n",
    "tupn = []\n",
    "for i in tupw:\n",
    "    if tupw.count(i)!=1:\n",
    "        if(i not in tupn):\n",
    "            tupn.append(i)\n",
    "            print(i)"
   ]
  },
  {
   "cell_type": "markdown",
   "id": "15fb27c2",
   "metadata": {},
   "source": [
    "### Write a Python program to remove an empty tuple(s) from a list of tuples."
   ]
  },
  {
   "cell_type": "code",
   "execution_count": null,
   "id": "4e20fd70",
   "metadata": {},
   "outputs": [],
   "source": [
    "li4 = [(1,2,3),(),(7,8,90),()]\n",
    "for i in li4:\n",
    "    if len(i)==0:\n",
    "        li4.remove(i)\n",
    "print(li4)"
   ]
  },
  {
   "cell_type": "markdown",
   "id": "c0d47571",
   "metadata": {},
   "source": [
    "### Write a Python program to unzip a list of tuples into individual lists."
   ]
  },
  {
   "cell_type": "code",
   "execution_count": null,
   "id": "5beb73f1",
   "metadata": {},
   "outputs": [],
   "source": [
    "l9 = [(887,56),(\"ds\",56),(78,'string',(4,45))]\n",
    "for i in l9:\n",
    "    print(list(i))"
   ]
  },
  {
   "cell_type": "markdown",
   "id": "c79c7d03",
   "metadata": {},
   "source": [
    "###  Write a Python program to convert a list of tuples into a dictionary."
   ]
  },
  {
   "cell_type": "code",
   "execution_count": null,
   "id": "a55839f6",
   "metadata": {},
   "outputs": [],
   "source": [
    "t4 = [(887,56),(\"ds\",56),(78,'string')]\n",
    "dict(t4)"
   ]
  },
  {
   "cell_type": "markdown",
   "id": "063f3239",
   "metadata": {},
   "source": [
    "### How will you create a dictionary using tuples in python?"
   ]
  },
  {
   "cell_type": "code",
   "execution_count": null,
   "id": "605b2135",
   "metadata": {},
   "outputs": [],
   "source": [
    "t8 = ((5,'dwe'),('yash',89),('uasjs','adsa'))\n",
    "print(dict(t8))"
   ]
  },
  {
   "cell_type": "markdown",
   "id": "9fcc8f98",
   "metadata": {},
   "source": [
    "### Write a Python script to sort (ascending and descending) a dictionary by value."
   ]
  },
  {
   "cell_type": "code",
   "execution_count": null,
   "id": "12416291",
   "metadata": {},
   "outputs": [],
   "source": [
    "dict1 = {'yash':12,\"sagar\":23,'parth':1}\n",
    "dict(sorted(dict1.items(), key=lambda x: x[1]))#ascending\n",
    "dict(sorted(dict1.items(), key=lambda x: x[1],reverse=True)) #descending"
   ]
  },
  {
   "cell_type": "markdown",
   "id": "4f2e2555",
   "metadata": {},
   "source": [
    "### Write a Python script to concatenate following dictionaries to create a new one"
   ]
  },
  {
   "cell_type": "code",
   "execution_count": null,
   "id": "34b82c0f",
   "metadata": {},
   "outputs": [],
   "source": [
    "d1 = {'yash':45,'mehul':98}\n",
    "d2 = {'mine':'dsd',(45,78):\"ysdh\"}\n",
    "newd = {}\n",
    "for i in (d1,d2):\n",
    "    newd.update(i)\n",
    "    print(i)\n",
    "newd"
   ]
  },
  {
   "cell_type": "markdown",
   "id": "ace2b29e",
   "metadata": {},
   "source": [
    "### Write a Python script to check if a given key already exists in a dictionary."
   ]
  },
  {
   "cell_type": "code",
   "execution_count": null,
   "id": "e8ac29ef",
   "metadata": {},
   "outputs": [],
   "source": [
    "ke = input()\n",
    "d4 = {'yash':45,'mehul':98,'surat':395001}\n",
    "if ke in d4.keys():\n",
    "    print(ke,'is in dictionary')\n",
    "else:\n",
    "    print('can not found',ke)"
   ]
  },
  {
   "cell_type": "markdown",
   "id": "5e930375",
   "metadata": {},
   "source": [
    "### How Do You Traverse Through A Dictionary Object In Python?"
   ]
  },
  {
   "cell_type": "code",
   "execution_count": 26,
   "id": "3589f49e",
   "metadata": {},
   "outputs": [
    {
     "name": "stdout",
     "output_type": "stream",
     "text": [
      "key:value\n",
      "\n",
      "yash : 23\n",
      "sdasd : 87\n",
      "1 : wd\n",
      "2 : 89\n",
      "16 : pwd\n"
     ]
    }
   ],
   "source": [
    "dict8 = {'yash':23,\"sdasd\":87,1:'wd',2:89,16:'pwd'}\n",
    "print(\"key:value\\n\")\n",
    "for i,j in dict8.items():\n",
    "    print(i,':',j)"
   ]
  },
  {
   "cell_type": "markdown",
   "id": "7df9036c",
   "metadata": {},
   "source": [
    "### How Do You Check The Presence Of A Key In A Dictionary?"
   ]
  },
  {
   "cell_type": "code",
   "execution_count": null,
   "id": "1486079e",
   "metadata": {},
   "outputs": [],
   "source": [
    "ke = input()\n",
    "d4 = {'yash':45,'mehul':98,'surat':395001}\n",
    "if ke in d4.keys():\n",
    "    print(ke,'is in dictionary')\n",
    "else:\n",
    "    print('can not found',ke)"
   ]
  },
  {
   "cell_type": "markdown",
   "id": "fd8929ad",
   "metadata": {},
   "source": [
    "### Write a Python script to print a dictionary where the keys are numbers between 1 and 15."
   ]
  },
  {
   "cell_type": "code",
   "execution_count": null,
   "id": "7a9b32e8",
   "metadata": {},
   "outputs": [],
   "source": [
    "dict8 = {'yash':23,\"sdasd\":87,1:'wd',2:89,16:'pwd'}\n",
    "dict8n=[]\n",
    "for i in dict8.items():\n",
    "    if type(i[0]) == int:\n",
    "        if i[0]>= 1 and i[0]<=15:\n",
    "            dict8n.append(i)\n",
    "print(dict(dict8n))"
   ]
  },
  {
   "cell_type": "markdown",
   "id": "ea5e6089",
   "metadata": {},
   "source": [
    "### Write a Python program to check multiple keys exists in a dictionary"
   ]
  },
  {
   "cell_type": "code",
   "execution_count": 18,
   "id": "02e933cd",
   "metadata": {},
   "outputs": [
    {
     "name": "stdout",
     "output_type": "stream",
     "text": [
      "Multiple key Exists\n"
     ]
    }
   ],
   "source": [
    "dict9 = {'yash':23,\"sdasd\":87,1:'yash','yash':89,16:'pwd'}\n",
    "if(len(dict9)>1):\n",
    "    print('Multiple key Exists')\n",
    "else:\n",
    "    print('zero or One Key Exists')"
   ]
  },
  {
   "cell_type": "markdown",
   "id": "1df4e7cb",
   "metadata": {},
   "source": [
    "### Write a Python script to merge two Python dictionaries"
   ]
  },
  {
   "cell_type": "code",
   "execution_count": null,
   "id": "79d86215",
   "metadata": {},
   "outputs": [],
   "source": [
    "dict1 = {'yash': 19, 18: 'yas'}\n",
    "dict2 = {'mitesh':18, ('ya',):12}\n",
    "dict1.update(dict2)\n",
    "print(dict1)"
   ]
  },
  {
   "cell_type": "markdown",
   "id": "3a2e4307",
   "metadata": {},
   "source": [
    "### Write a Python program to map two lists into a dictionary"
   ]
  },
  {
   "cell_type": "code",
   "execution_count": null,
   "id": "4bd4ff23",
   "metadata": {},
   "outputs": [],
   "source": [
    "list1 = [1,2,3]\n",
    "list2 = [2,4,6]\n",
    "l3 = zip(list1,list2)\n",
    "print(dict(l3))"
   ]
  },
  {
   "cell_type": "markdown",
   "id": "5b36b357",
   "metadata": {},
   "source": [
    "### Write a Python program to combine two dictionary adding values for common keys.\n",
    "    o d1 = {'a': 100, 'b': 200, 'c':300}\n",
    "    o d2 = {'a': 300, 'b': 200,'d':400}\n",
    "    Sample output: Counter ({'a': 400, 'b': 400,’d’: 400, 'c': 300})."
   ]
  },
  {
   "cell_type": "code",
   "execution_count": 36,
   "id": "c6ce4915",
   "metadata": {},
   "outputs": [
    {
     "name": "stdout",
     "output_type": "stream",
     "text": [
      "{'a': 400, 'b': 400, 'd': 400, 'yash': 178, 'us': 78, 'c': 300}\n"
     ]
    }
   ],
   "source": [
    "d1 = {'a': 100, 'b': 200, 'c':300,'yash':78}\n",
    "d2 = {'a': 300, 'b': 200,'d':400,'yash':100,'us':78}\n",
    "for i in d2:\n",
    "    if i in d1:\n",
    "        d2[i] = d2[i] + d1[i]\n",
    "    else:\n",
    "        pass\n",
    "for i in d1:\n",
    "    if i in d2:\n",
    "        pass\n",
    "    else:\n",
    "        d2.update({i:d1[i]})\n",
    "print(d2)"
   ]
  },
  {
   "cell_type": "markdown",
   "id": "2b68ce49",
   "metadata": {},
   "source": [
    "### Write a Python program to print all unique values in a dictionary."
   ]
  },
  {
   "cell_type": "code",
   "execution_count": null,
   "id": "89418660",
   "metadata": {},
   "outputs": [],
   "source": [
    "d1 = {'a': 100, 'b': 200, 'c':300,'d':200}\n",
    "list5 = []\n",
    "for i in d1.values():\n",
    "    if i in list5:\n",
    "        pass\n",
    "    else:\n",
    "        list5.append(i)\n",
    "print('unique values')\n",
    "print(list5)"
   ]
  },
  {
   "cell_type": "markdown",
   "id": "14336c7c",
   "metadata": {},
   "source": [
    "### Why Do You Use the Zip () Method in Python?"
   ]
  },
  {
   "cell_type": "markdown",
   "id": "994a00ff",
   "metadata": {},
   "source": [
    "#### It is used to map the similar index of multiple containers so that they can be used just using a single entity. "
   ]
  },
  {
   "cell_type": "markdown",
   "id": "fe3476a2",
   "metadata": {},
   "source": [
    "### Write a Python program to create and display all combinations of letters, selecting each letter from a different key in a dictionary.\n",
    "    o Sample data: {'1': ['a','b'], '2': ['c','d']}\n",
    "    o Expected Output:\n",
    "    o ac ad bc bd"
   ]
  },
  {
   "cell_type": "code",
   "execution_count": null,
   "id": "4e7a6e54",
   "metadata": {},
   "outputs": [],
   "source": []
  },
  {
   "cell_type": "markdown",
   "id": "bbb3ccb4",
   "metadata": {},
   "source": [
    "### Write a Python program to find the highest 3 values in a dictionary"
   ]
  },
  {
   "cell_type": "code",
   "execution_count": 66,
   "id": "22df1007",
   "metadata": {},
   "outputs": [
    {
     "name": "stdout",
     "output_type": "stream",
     "text": [
      "highest 3 values are [800, 700, 100]\n"
     ]
    }
   ],
   "source": [
    "d4 = {'a':100,'b':40,'c':700,'d':800,'e':80}\n",
    "d5 = dict(sorted(d4.items(),key = lambda a:a[1],reverse =True))\n",
    "d5 = list(d5.values())\n",
    "print('highest 3 values are',d5[:3])"
   ]
  },
  {
   "cell_type": "markdown",
   "id": "c475b9bd",
   "metadata": {},
   "source": [
    "### Write a Python program to combine values in python list of dictionaries. \n",
    "    Sample data: [{'item': 'item1', 'amount': 400}, {'item': 'item2', 'amount': 300},{'item': 'item1', 'amount': 750}]\n",
    "    o Expected Output: Counter ({'item1': 1150, 'item2': 300})"
   ]
  },
  {
   "cell_type": "code",
   "execution_count": null,
   "id": "9fb9c9a3",
   "metadata": {},
   "outputs": [],
   "source": []
  },
  {
   "cell_type": "markdown",
   "id": "c05e747a",
   "metadata": {},
   "source": [
    "### Write a Python program to create a dictionary from a string.\n",
    "    o Note: Track the count of the letters from the string. Sample string:'w3resource'\n",
    "    o Expected output: {'3': 1,’s’: 1, 'r': 2, 'u': 1, 'w': 1, 'c': 1, 'e': 2, 'o': 1}"
   ]
  },
  {
   "cell_type": "code",
   "execution_count": 68,
   "id": "4d585025",
   "metadata": {},
   "outputs": [
    {
     "name": "stdout",
     "output_type": "stream",
     "text": [
      "{'y': 1, 'a': 1, 's': 1, 'h': 1, ' ': 1, 'g': 1, 'o': 2, 'd': 1, 'l': 1, 'u': 1, 'c': 1, 'k': 1}\n"
     ]
    }
   ],
   "source": [
    "s = \"yash goodluck\"\n",
    "s1 = {}\n",
    "for i in s:\n",
    "    if i in s1:\n",
    "        s1[i] = s1[i]+1\n",
    "    else:\n",
    "        s1[i]=1\n",
    "print(s1)"
   ]
  },
  {
   "cell_type": "markdown",
   "id": "a4ef4f6a",
   "metadata": {},
   "source": [
    "### Write a Python function to calculate the factorial of a number (a non\u0002negative integer)"
   ]
  },
  {
   "cell_type": "code",
   "execution_count": 70,
   "id": "fb9710fb",
   "metadata": {},
   "outputs": [
    {
     "data": {
      "text/plain": [
       "120"
      ]
     },
     "execution_count": 70,
     "metadata": {},
     "output_type": "execute_result"
    }
   ],
   "source": [
    "def factorial(num):\n",
    "    if num == 1:\n",
    "        return num\n",
    "    return num * factorial(num-1)\n",
    "factorial(5)"
   ]
  },
  {
   "cell_type": "markdown",
   "id": "bb09a3df",
   "metadata": {},
   "source": [
    "### Write a Python function to check whether a number is perfect or not."
   ]
  },
  {
   "cell_type": "code",
   "execution_count": 86,
   "id": "8111be33",
   "metadata": {},
   "outputs": [
    {
     "data": {
      "text/plain": [
       "False"
      ]
     },
     "execution_count": 86,
     "metadata": {},
     "output_type": "execute_result"
    }
   ],
   "source": [
    "def perfect(num):\n",
    "    sum = 0\n",
    "    for i in range(1,num):\n",
    "        if num % i == 0:\n",
    "            sum = sum + i\n",
    "    return sum == num\n",
    "perfect(1)"
   ]
  },
  {
   "cell_type": "markdown",
   "id": "4e56617f",
   "metadata": {},
   "source": [
    "### Write a Python function that checks whether a passed string is palindrome or not"
   ]
  },
  {
   "cell_type": "code",
   "execution_count": 97,
   "id": "68f7d8d1",
   "metadata": {},
   "outputs": [
    {
     "data": {
      "text/plain": [
       "True"
      ]
     },
     "execution_count": 97,
     "metadata": {},
     "output_type": "execute_result"
    }
   ],
   "source": [
    "def pali(s):\n",
    "    s1 = s[-1::-1]\n",
    "    return s == s1\n",
    "pali('mom')"
   ]
  },
  {
   "cell_type": "markdown",
   "id": "e6a07318",
   "metadata": {},
   "source": [
    "### How do you perform pattern matching in Python? Explain"
   ]
  },
  {
   "cell_type": "code",
   "execution_count": null,
   "id": "4e651e81",
   "metadata": {},
   "outputs": [],
   "source": []
  },
  {
   "cell_type": "markdown",
   "id": "384b6c4d",
   "metadata": {},
   "source": [
    "### What is lambda function in python? What we call a function which is incomplete version of a function?"
   ]
  },
  {
   "cell_type": "markdown",
   "id": "4f38e742",
   "metadata": {},
   "source": [
    "#### lambda function is an annonymus function with single expression and multiple perameter. It is one liner function.\n",
    "#### stub is incomplete version of a function"
   ]
  },
  {
   "cell_type": "markdown",
   "id": "48cbf22a",
   "metadata": {},
   "source": [
    "### How Many Basic Types Of Functions Are Available In Python?"
   ]
  },
  {
   "cell_type": "markdown",
   "id": "dabcea5a",
   "metadata": {},
   "source": [
    "#### There are 3 basic functions available in Python\n",
    "#### Built-in Function\n",
    "#### User-Define Function\n",
    "#### lambda Function"
   ]
  },
  {
   "cell_type": "markdown",
   "id": "02052b4e",
   "metadata": {},
   "source": [
    "### How can you pick a random item from a list or tuple?"
   ]
  },
  {
   "cell_type": "markdown",
   "id": "a1471ae8",
   "metadata": {},
   "source": [
    "#### We can pick random item form list tuple by using random module.(random.choice)"
   ]
  },
  {
   "cell_type": "markdown",
   "id": "eaadd839",
   "metadata": {},
   "source": [
    "### How can you pick a random item from a range?"
   ]
  },
  {
   "cell_type": "markdown",
   "id": "63af6a26",
   "metadata": {},
   "source": [
    "#### we can use random module with randint() method (random.randint())"
   ]
  },
  {
   "cell_type": "markdown",
   "id": "78904765",
   "metadata": {},
   "source": [
    "### How can you get a random number in python?"
   ]
  },
  {
   "cell_type": "markdown",
   "id": "9788916d",
   "metadata": {},
   "source": [
    "#### we can use random module with randrange() method (random.randrange())"
   ]
  },
  {
   "cell_type": "markdown",
   "id": "022f5a41",
   "metadata": {},
   "source": [
    "### How will you set the starting value in generating random numbers?"
   ]
  },
  {
   "cell_type": "markdown",
   "id": "f23f179e",
   "metadata": {},
   "source": [
    "#### we can use random module with randrange() method (random.randrange()) by giving starting range"
   ]
  },
  {
   "cell_type": "markdown",
   "id": "f48ca621",
   "metadata": {},
   "source": [
    "### How will you randomizes the items of a list in place?"
   ]
  },
  {
   "cell_type": "code",
   "execution_count": 105,
   "id": "9386bcd9",
   "metadata": {},
   "outputs": [
    {
     "data": {
      "text/plain": [
       "[3, 2, 6, 5, 1, 4]"
      ]
     },
     "execution_count": 105,
     "metadata": {},
     "output_type": "execute_result"
    }
   ],
   "source": [
    "#### we can use random module with shuffle() method (random.shuffle())\n",
    "list1 = [1,2,3,4,5,6]\n",
    "random.shuffle(list1)\n",
    "list1"
   ]
  },
  {
   "cell_type": "markdown",
   "id": "64f3d2ea",
   "metadata": {},
   "source": [
    "### Write a Python program to read a random line from a file."
   ]
  },
  {
   "cell_type": "code",
   "execution_count": null,
   "id": "bdee2d4a",
   "metadata": {},
   "outputs": [],
   "source": []
  },
  {
   "cell_type": "markdown",
   "id": "f8d072f0",
   "metadata": {},
   "source": [
    "### Write a Python program to convert degree to radian"
   ]
  },
  {
   "cell_type": "code",
   "execution_count": 111,
   "id": "5abc240a",
   "metadata": {},
   "outputs": [
    {
     "data": {
      "text/plain": [
       "0.17444444444444446"
      ]
     },
     "execution_count": 111,
     "metadata": {},
     "output_type": "execute_result"
    }
   ],
   "source": [
    "def deg_rad(num):\n",
    "    rad = num*3.14/180\n",
    "    return rad\n",
    "deg_rad(10)"
   ]
  },
  {
   "cell_type": "markdown",
   "id": "09c4a53c",
   "metadata": {},
   "source": [
    "### Write a Python program to calculate the area of a trapezoid"
   ]
  },
  {
   "cell_type": "code",
   "execution_count": 112,
   "id": "48c68ccc",
   "metadata": {},
   "outputs": [
    {
     "name": "stdout",
     "output_type": "stream",
     "text": [
      "Length 1: 40\n",
      "Length 2: 20\n",
      "height: 10\n",
      "Area of given trapezoid: 300.0\n"
     ]
    }
   ],
   "source": [
    "a = int(input('Length 1: '))\n",
    "b = int(input('Length 2: '))\n",
    "h = int(input('height: '))\n",
    "area = (a+b)/2 * h\n",
    "print('Area of given trapezoid:',area)"
   ]
  },
  {
   "cell_type": "markdown",
   "id": "77761f79",
   "metadata": {},
   "source": [
    "### Write a Python program to calculate the area of a parallelogram"
   ]
  },
  {
   "cell_type": "code",
   "execution_count": null,
   "id": "4ee4ceb3",
   "metadata": {},
   "outputs": [],
   "source": []
  },
  {
   "cell_type": "markdown",
   "id": "586e3bd7",
   "metadata": {},
   "source": [
    "### Write a Python program to calculate surface volume and area of a cylinder"
   ]
  },
  {
   "cell_type": "code",
   "execution_count": null,
   "id": "f95e5486",
   "metadata": {},
   "outputs": [],
   "source": []
  },
  {
   "cell_type": "markdown",
   "id": "fe151ff7",
   "metadata": {},
   "source": [
    "### Write a Python program to returns sum of all divisors of a number"
   ]
  },
  {
   "cell_type": "code",
   "execution_count": null,
   "id": "f235568a",
   "metadata": {},
   "outputs": [],
   "source": []
  },
  {
   "cell_type": "markdown",
   "id": "7f22593c",
   "metadata": {},
   "source": [
    "### Write a Python program to find the maximum and minimum numbers from the specified decimal number"
   ]
  },
  {
   "cell_type": "code",
   "execution_count": null,
   "id": "530549ef",
   "metadata": {},
   "outputs": [],
   "source": []
  }
 ],
 "metadata": {
  "kernelspec": {
   "display_name": "Python 3 (ipykernel)",
   "language": "python",
   "name": "python3"
  },
  "language_info": {
   "codemirror_mode": {
    "name": "ipython",
    "version": 3
   },
   "file_extension": ".py",
   "mimetype": "text/x-python",
   "name": "python",
   "nbconvert_exporter": "python",
   "pygments_lexer": "ipython3",
   "version": "3.9.7"
  }
 },
 "nbformat": 4,
 "nbformat_minor": 5
}
