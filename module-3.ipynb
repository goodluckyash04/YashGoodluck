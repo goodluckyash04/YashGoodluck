{
 "cells": [
  {
   "cell_type": "markdown",
   "id": "7a890d92",
   "metadata": {},
   "source": [
    "# Module-3"
   ]
  },
  {
   "cell_type": "markdown",
   "id": "2ec84197",
   "metadata": {},
   "source": [
    "### What is List? How will you reverse a list?\n"
   ]
  },
  {
   "cell_type": "markdown",
   "id": "cd72e04d",
   "metadata": {},
   "source": [
    "#### List is one of the datatype of python. List is used to store multiple items in a single variable.List can be reversed using built-in function called \"reverse()\"."
   ]
  },
  {
   "cell_type": "markdown",
   "id": "daa60d9e",
   "metadata": {},
   "source": [
    "### How will you remove last object from a list?\n"
   ]
  },
  {
   "cell_type": "markdown",
   "id": "86d2f2e2",
   "metadata": {},
   "source": [
    "#### Lsat object form the list can be removed using built-in function pop()"
   ]
  },
  {
   "cell_type": "markdown",
   "id": "ba54bcb4",
   "metadata": {},
   "source": [
    "### Suppose list1 is [2, 33, 222, 14, and 25], what is list1 [-1]?\n"
   ]
  },
  {
   "cell_type": "markdown",
   "id": "ca388303",
   "metadata": {},
   "source": [
    "#### list1[-1] gives the last element of list which is 25"
   ]
  },
  {
   "cell_type": "markdown",
   "id": "fd910199",
   "metadata": {},
   "source": [
    "### Differentiate between append () and extend () methods?\n"
   ]
  },
  {
   "cell_type": "markdown",
   "id": "8f4582d1",
   "metadata": {},
   "source": [
    "#### append() method adds an element as 1 element while extend method can only add iterables as an individuals"
   ]
  },
  {
   "cell_type": "markdown",
   "id": "e848d5b6",
   "metadata": {},
   "source": [
    "### Write a Python function to get the largest number, smallest num and sum of all from a list."
   ]
  },
  {
   "cell_type": "markdown",
   "id": "73597296",
   "metadata": {},
   "source": [
    "### How will you compare two lists?"
   ]
  },
  {
   "cell_type": "markdown",
   "id": "b43c76fc",
   "metadata": {},
   "source": [
    "### Write a Python program to count the number of strings where the string length is 2 or more and the first and last character are same from a given list of strings"
   ]
  },
  {
   "cell_type": "code",
   "execution_count": null,
   "id": "1ba36433",
   "metadata": {},
   "outputs": [],
   "source": [
    "x = int(input(\"Number of Element:\"))\n",
    "newl = []\n",
    "l = []\n",
    "for i in range(x):\n",
    "    a = input()\n",
    "    l.append(a)\n",
    "print(l)\n",
    "for i in l:\n",
    "    if len(i)>=2:\n",
    "        if i[0] == i[-1]:\n",
    "            newl.append(i)\n",
    "print(len(newl),'elements with more than 2 length and same first and last character')            "
   ]
  },
  {
   "cell_type": "markdown",
   "id": "eb76a547",
   "metadata": {},
   "source": [
    "### Write a Python program to remove duplicates from a list."
   ]
  },
  {
   "cell_type": "code",
   "execution_count": 1,
   "id": "ba5d9bcf",
   "metadata": {},
   "outputs": [
    {
     "name": "stdout",
     "output_type": "stream",
     "text": [
      "Number of Element:4\n",
      "dad3\n",
      "dad\n",
      "dd\n",
      "dd\n",
      "['dad3', 'dad', 'dd', 'dd']\n",
      "['dad3', 'dad', 'dd']\n"
     ]
    }
   ],
   "source": [
    "x = int(input(\"Number of Element:\"))\n",
    "newl = []\n",
    "l1 = []\n",
    "for i in range(x):\n",
    "    a = input()\n",
    "    l1.append(a)\n",
    "print(l1)\n",
    "newl1=[]\n",
    "for i in l1:\n",
    "    if(i in newl1):\n",
    "        pass\n",
    "    else:\n",
    "        newl1.append(i)\n",
    "print(newl1)\n",
    "\n",
    "#or\n",
    "\n",
    "# newl1=set(l1)\n",
    "# newlist = []\n",
    "# for i in newl1:\n",
    "#     newlist.append(i)\n",
    "# print(newlist)"
   ]
  },
  {
   "cell_type": "markdown",
   "id": "f8f4a52e",
   "metadata": {},
   "source": [
    "### Write a Python program to check a list is empty or not.\n"
   ]
  },
  {
   "cell_type": "code",
   "execution_count": null,
   "id": "3f46e5e0",
   "metadata": {},
   "outputs": [],
   "source": [
    "l2 = []\n",
    "if(len(l2)==0):\n",
    "    print('list is Empty')\n",
    "else:\n",
    "    print('list has',len(l2),'elements')"
   ]
  },
  {
   "cell_type": "markdown",
   "id": "168d8b52",
   "metadata": {},
   "source": [
    "### Write a Python function that takes two lists and returns true if they have at least one common member.\n"
   ]
  },
  {
   "cell_type": "markdown",
   "id": "bc17bfa2",
   "metadata": {},
   "source": [
    "### Write a Python program to generate and print a list of first and last 5 elements where the values are square of numbers between 1 and 30."
   ]
  },
  {
   "cell_type": "code",
   "execution_count": null,
   "id": "de1710b6",
   "metadata": {},
   "outputs": [],
   "source": []
  }
 ],
 "metadata": {
  "kernelspec": {
   "display_name": "Python 3 (ipykernel)",
   "language": "python",
   "name": "python3"
  },
  "language_info": {
   "codemirror_mode": {
    "name": "ipython",
    "version": 3
   },
   "file_extension": ".py",
   "mimetype": "text/x-python",
   "name": "python",
   "nbconvert_exporter": "python",
   "pygments_lexer": "ipython3",
   "version": "3.9.7"
  }
 },
 "nbformat": 4,
 "nbformat_minor": 5
}
