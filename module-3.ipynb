{
 "cells": [
  {
   "cell_type": "markdown",
   "id": "7a890d92",
   "metadata": {},
   "source": [
    "# Module-3"
   ]
  },
  {
   "cell_type": "markdown",
   "id": "2ec84197",
   "metadata": {},
   "source": [
    "### What is List? How will you reverse a list?\n"
   ]
  },
  {
   "cell_type": "markdown",
   "id": "cd72e04d",
   "metadata": {},
   "source": [
    "#### List is one of the datatype of python. List is used to store multiple items in a single variable.List can be reversed using built-in function called \"reverse()\"."
   ]
  },
  {
   "cell_type": "markdown",
   "id": "daa60d9e",
   "metadata": {},
   "source": [
    "### How will you remove last object from a list?\n"
   ]
  },
  {
   "cell_type": "markdown",
   "id": "86d2f2e2",
   "metadata": {},
   "source": [
    "#### Lsat object form the list can be removed using built-in function pop()"
   ]
  },
  {
   "cell_type": "markdown",
   "id": "ba54bcb4",
   "metadata": {},
   "source": [
    "### Suppose list1 is [2, 33, 222, 14, and 25], what is list1 [-1]?\n"
   ]
  },
  {
   "cell_type": "markdown",
   "id": "ca388303",
   "metadata": {},
   "source": [
    "#### list1[-1] gives the last element of list which is 25"
   ]
  },
  {
   "cell_type": "markdown",
   "id": "fd910199",
   "metadata": {},
   "source": [
    "### Differentiate between append () and extend () methods?\n"
   ]
  },
  {
   "cell_type": "markdown",
   "id": "8f4582d1",
   "metadata": {},
   "source": [
    "#### append() method adds an element as 1 element while extend method can only add iterables as an individuals"
   ]
  },
  {
   "cell_type": "markdown",
   "id": "e848d5b6",
   "metadata": {},
   "source": [
    "### Write a Python function to get the largest number, smallest num and sum of all from a list."
   ]
  },
  {
   "cell_type": "code",
   "execution_count": null,
   "id": "ac1653f4",
   "metadata": {},
   "outputs": [],
   "source": [
    "n = int(input(\"Number of Element:\"))\n",
    "l5 = []\n",
    "for i in range(n):\n",
    "    a = int(input())\n",
    "    l5.append(a)\n",
    "print(l5)\n",
    "\n",
    "def large(x):\n",
    "    temp = x[0]\n",
    "    for i in x:\n",
    "        if i > temp:\n",
    "            temp = i\n",
    "    print(temp,'is the largest number')\n",
    "    \n",
    "def small(x):\n",
    "    temp = x[0]\n",
    "    for i in x:\n",
    "        if i < temp:\n",
    "            temp = i\n",
    "    print(temp,'is the smallest number')\n",
    "    \n",
    "def sumofall(x):\n",
    "    sum = 0\n",
    "    for i in x:\n",
    "        sum+=i\n",
    "    print(sum,'is the sum of list')\n",
    "    \n",
    "large(l5)\n",
    "small(l5)\n",
    "sumofall(l5)"
   ]
  },
  {
   "cell_type": "markdown",
   "id": "73597296",
   "metadata": {},
   "source": [
    "### How will you compare two lists?"
   ]
  },
  {
   "cell_type": "markdown",
   "id": "b43c76fc",
   "metadata": {},
   "source": [
    "### Write a Python program to count the number of strings where the string length is 2 or more and the first and last character are same from a given list of strings"
   ]
  },
  {
   "cell_type": "code",
   "execution_count": null,
   "id": "1ba36433",
   "metadata": {},
   "outputs": [],
   "source": [
    "x = int(input(\"Number of Element:\"))\n",
    "newl = []\n",
    "l = []\n",
    "for i in range(x):\n",
    "    a = input()\n",
    "    l.append(a)\n",
    "print(l)\n",
    "for i in l:\n",
    "    if len(i)>=2:\n",
    "        if i[0] == i[-1]:\n",
    "            newl.append(i)\n",
    "print(len(newl),'elements with more than 2 length and same first and last character')            "
   ]
  },
  {
   "cell_type": "markdown",
   "id": "eb76a547",
   "metadata": {},
   "source": [
    "### Write a Python program to remove duplicates from a list."
   ]
  },
  {
   "cell_type": "code",
   "execution_count": null,
   "id": "ba5d9bcf",
   "metadata": {},
   "outputs": [],
   "source": [
    "x = int(input(\"Number of Element:\"))\n",
    "newl = []\n",
    "l1 = []\n",
    "for i in range(x):\n",
    "    a = input()\n",
    "    l1.append(a)\n",
    "print(l1)\n",
    "newl1=[]\n",
    "for i in l1:\n",
    "    if(i in newl1):\n",
    "        pass\n",
    "    else:\n",
    "        newl1.append(i)\n",
    "print(newl1)\n",
    "\n",
    "#or\n",
    "\n",
    "# newl1=set(l1)\n",
    "# newlist = []\n",
    "# for i in newl1:\n",
    "#     newlist.append(i)\n",
    "# print(newlist)"
   ]
  },
  {
   "cell_type": "markdown",
   "id": "f8f4a52e",
   "metadata": {},
   "source": [
    "### Write a Python program to check a list is empty or not.\n"
   ]
  },
  {
   "cell_type": "code",
   "execution_count": null,
   "id": "3f46e5e0",
   "metadata": {},
   "outputs": [],
   "source": [
    "l2 = []\n",
    "if(len(l2)==0):\n",
    "    print('list is Empty')\n",
    "else:\n",
    "    print('list has',len(l2),'elements')"
   ]
  },
  {
   "cell_type": "markdown",
   "id": "168d8b52",
   "metadata": {},
   "source": [
    "### Write a Python function that takes two lists and returns true if they have at least one common member.\n"
   ]
  },
  {
   "cell_type": "code",
   "execution_count": null,
   "id": "47930fbf",
   "metadata": {},
   "outputs": [],
   "source": [
    "def listcompare(a,b):\n",
    "    for i in a:\n",
    "        for j in b:\n",
    "            if i == j:\n",
    "                print(True)\n",
    "                break\n",
    "listcompare([1,2,3,7,4],[5,2,3,7,6,8])"
   ]
  },
  {
   "cell_type": "markdown",
   "id": "bc17bfa2",
   "metadata": {},
   "source": [
    "### Write a Python program to generate and print a list of first and last 5 elements where the values are square of numbers between 1 and 30."
   ]
  },
  {
   "cell_type": "code",
   "execution_count": null,
   "id": "de1710b6",
   "metadata": {},
   "outputs": [],
   "source": [
    "listsq = []\n",
    "for i in range(1,31):\n",
    "    if(i<=5 or (i>25 and i<=30)):\n",
    "        listsq.append(i*i)\n",
    "print(listsq)"
   ]
  },
  {
   "cell_type": "markdown",
   "id": "621b84c2",
   "metadata": {},
   "source": [
    "### Write a Python function that takes a list and returns a new list with unique elements of the first list"
   ]
  },
  {
   "cell_type": "code",
   "execution_count": null,
   "id": "71c3c114",
   "metadata": {},
   "outputs": [],
   "source": [
    "list6=[1,2,1,3,4,5,6,5,5,7,'yash']\n",
    "def unique(x):\n",
    "    x1=[]\n",
    "    for i in x:\n",
    "        if x.count(i)==1:\n",
    "            x1.append(i)\n",
    "    print(x1)\n",
    "unique(list6)    "
   ]
  },
  {
   "cell_type": "markdown",
   "id": "6a72b003",
   "metadata": {},
   "source": [
    "### Write a Python program to convert a list of characters into a string."
   ]
  },
  {
   "cell_type": "code",
   "execution_count": null,
   "id": "499c1167",
   "metadata": {},
   "outputs": [],
   "source": [
    "chlist = ['x','y','a','s','h']\n",
    "st=''\n",
    "for i in chlist:\n",
    "    st+=i\n",
    "print(st)"
   ]
  },
  {
   "cell_type": "markdown",
   "id": "81ce3a55",
   "metadata": {},
   "source": [
    "### Write a Python program to select an item randomly from a list.\n"
   ]
  },
  {
   "cell_type": "code",
   "execution_count": null,
   "id": "5ac20924",
   "metadata": {},
   "outputs": [],
   "source": [
    "list7 = [1,5,'ysah','yoy',-9]\n",
    "def random(x):\n",
    "#     r = (1+len(x))/"
   ]
  },
  {
   "cell_type": "markdown",
   "id": "5b00bb7e",
   "metadata": {},
   "source": [
    "### Write a Python program to find the second smallest number in a list."
   ]
  },
  {
   "cell_type": "code",
   "execution_count": null,
   "id": "7993b92b",
   "metadata": {},
   "outputs": [],
   "source": [
    "listy = [1,25,30,42,5,6]\n",
    "listy.sort()\n",
    "print(listy[1],'is second smallest number')"
   ]
  },
  {
   "cell_type": "markdown",
   "id": "54e6b7ad",
   "metadata": {},
   "source": [
    "### Write a Python program to get unique values from a list"
   ]
  },
  {
   "cell_type": "code",
   "execution_count": null,
   "id": "6c300c23",
   "metadata": {},
   "outputs": [],
   "source": [
    "x=[1,2,1,3,4,5,6,5,7,'yash']\n",
    "x1=[]\n",
    "for i in x:\n",
    "    if x.count(i)==1:\n",
    "        x1.append(i)\n",
    "print(x1)"
   ]
  },
  {
   "cell_type": "markdown",
   "id": "8a954d9a",
   "metadata": {},
   "source": [
    "### Wribte a Python program to check whether a list contains a sub list"
   ]
  },
  {
   "cell_type": "code",
   "execution_count": null,
   "id": "e40c40a3",
   "metadata": {},
   "outputs": [],
   "source": [
    "list5 = [1,2,3,[4,5,6,7],7,8]\n",
    "for i in list5:\n",
    "    if type(i)==list:\n",
    "        print('list contains sublist')\n",
    "        break\n",
    "else:\n",
    "    print('no sublist found')"
   ]
  },
  {
   "cell_type": "markdown",
   "id": "a4d3238e",
   "metadata": {},
   "source": [
    "### Write a Python program to split a list into different variables."
   ]
  },
  {
   "cell_type": "code",
   "execution_count": null,
   "id": "8807e646",
   "metadata": {},
   "outputs": [],
   "source": []
  },
  {
   "cell_type": "markdown",
   "id": "a1896096",
   "metadata": {},
   "source": [
    "### What is tuple? Difference between list and tuple.\n"
   ]
  },
  {
   "cell_type": "markdown",
   "id": "3cc48c26",
   "metadata": {},
   "source": [
    "#### Tuple is a sequence data type containing elements of different data types.\n",
    "#### The primary difference between tuples and lists is that tuples are immutable as opposed to lists which are mutable. Therefore, it is possible to change a list but not a tuple."
   ]
  },
  {
   "cell_type": "markdown",
   "id": "b4833f6a",
   "metadata": {},
   "source": [
    "### Write a Python program to create a tuple with different data types."
   ]
  },
  {
   "cell_type": "code",
   "execution_count": null,
   "id": "925a495a",
   "metadata": {},
   "outputs": [],
   "source": [
    "tuple1 = ('yash',1,1.5,[1,5],(4,),{'de':4},True,{4,5})\n",
    "tuple1"
   ]
  },
  {
   "cell_type": "markdown",
   "id": "ad0b4b61",
   "metadata": {},
   "source": [
    "### Write a Python program to create a tuple with numbers."
   ]
  },
  {
   "cell_type": "code",
   "execution_count": null,
   "id": "1b6ae707",
   "metadata": {},
   "outputs": [],
   "source": [
    "tuple2 = (2,3,4,5)\n",
    "tuple2"
   ]
  },
  {
   "cell_type": "markdown",
   "id": "f80dec8c",
   "metadata": {},
   "source": [
    "### Write a Python program to convert a tuple to a string."
   ]
  },
  {
   "cell_type": "code",
   "execution_count": null,
   "id": "d13ec683",
   "metadata": {},
   "outputs": [],
   "source": [
    "tuple3=(1,2,'yash')\n",
    "co = str(tuple3)\n",
    "co"
   ]
  },
  {
   "cell_type": "markdown",
   "id": "5b2314a7",
   "metadata": {},
   "source": [
    "### Write a Python program to check whether an element exists within a tuple"
   ]
  },
  {
   "cell_type": "code",
   "execution_count": null,
   "id": "40b9d059",
   "metadata": {},
   "outputs": [],
   "source": [
    "tuple4 = ()\n",
    "if len(tuple4)!=0:\n",
    "    print('Elements exists in tuple')\n",
    "else:\n",
    "    print('Tuple is Empty')"
   ]
  },
  {
   "cell_type": "markdown",
   "id": "c9ee37e3",
   "metadata": {},
   "source": [
    "### Write a Python program to find the length of a tuple."
   ]
  },
  {
   "cell_type": "code",
   "execution_count": null,
   "id": "9a065ded",
   "metadata": {},
   "outputs": [],
   "source": [
    "tup = (1,5,8,9,{'t':\"rge\"})\n",
    "print(len(tup))"
   ]
  },
  {
   "cell_type": "markdown",
   "id": "cb13ce32",
   "metadata": {},
   "source": [
    "### Write a Python program to convert a list to a tuple."
   ]
  },
  {
   "cell_type": "code",
   "execution_count": null,
   "id": "0b068d03",
   "metadata": {},
   "outputs": [],
   "source": [
    "tup1 = (1,5,8,[1,2],9,{'t':\"rge\"})\n",
    "print(list(tup1))"
   ]
  },
  {
   "cell_type": "markdown",
   "id": "803442f8",
   "metadata": {},
   "source": [
    "### Write a Python program to reverse a tuple."
   ]
  },
  {
   "cell_type": "code",
   "execution_count": null,
   "id": "9403ad2e",
   "metadata": {},
   "outputs": [],
   "source": [
    "tup2 = ('yash',1,2,{'fef':48},[1,2],(4,'y'))\n",
    "tup3= tup2[::-1]\n",
    "print(tup3)"
   ]
  },
  {
   "cell_type": "markdown",
   "id": "5b7d5aa2",
   "metadata": {},
   "source": [
    "### Write a Python program to replace last value of tuples in a list."
   ]
  },
  {
   "cell_type": "code",
   "execution_count": null,
   "id": "43260872",
   "metadata": {},
   "outputs": [],
   "source": [
    "li2 = [(1,2,3),(8,56,12),(48,45,12)]\n",
    "x=[]\n",
    "for i in li2:\n",
    "    x.append((i[:-1]+(56,)))\n",
    "print(x)"
   ]
  },
  {
   "cell_type": "markdown",
   "id": "61801e3f",
   "metadata": {},
   "source": [
    "### Write a Python program to find the repeated items of a tuple."
   ]
  },
  {
   "cell_type": "code",
   "execution_count": null,
   "id": "13679bbc",
   "metadata": {},
   "outputs": [],
   "source": [
    "tupw = (1,5,5,2,4,1,6,6,6,6)\n",
    "tupn = []\n",
    "for i in tupw:\n",
    "    if tupw.count(i)!=1:\n",
    "        if(i not in tupn):\n",
    "            tupn.append(i)\n",
    "            print(i)"
   ]
  },
  {
   "cell_type": "markdown",
   "id": "15fb27c2",
   "metadata": {},
   "source": [
    "### Write a Python program to remove an empty tuple(s) from a list of tuples."
   ]
  },
  {
   "cell_type": "code",
   "execution_count": null,
   "id": "4e20fd70",
   "metadata": {},
   "outputs": [],
   "source": [
    "li4 = [(1,2,3),(),(7,8,90),()]\n",
    "for i in li4:\n",
    "    if len(i)==0:\n",
    "        li4.remove(i)\n",
    "print(li4)"
   ]
  },
  {
   "cell_type": "markdown",
   "id": "c0d47571",
   "metadata": {},
   "source": [
    "### Write a Python program to unzip a list of tuples into individual lists."
   ]
  },
  {
   "cell_type": "code",
   "execution_count": null,
   "id": "5beb73f1",
   "metadata": {},
   "outputs": [],
   "source": []
  },
  {
   "cell_type": "markdown",
   "id": "c79c7d03",
   "metadata": {},
   "source": [
    "###  Write a Python program to convert a list of tuples into a dictionary."
   ]
  },
  {
   "cell_type": "code",
   "execution_count": null,
   "id": "a55839f6",
   "metadata": {},
   "outputs": [],
   "source": []
  },
  {
   "cell_type": "markdown",
   "id": "063f3239",
   "metadata": {},
   "source": [
    "### How will you create a dictionary using tuples in python?"
   ]
  },
  {
   "cell_type": "code",
   "execution_count": null,
   "id": "605b2135",
   "metadata": {},
   "outputs": [],
   "source": []
  },
  {
   "cell_type": "markdown",
   "id": "9fcc8f98",
   "metadata": {},
   "source": [
    "### Write a Python script to sort (ascending and descending) a dictionary by value."
   ]
  },
  {
   "cell_type": "code",
   "execution_count": 4,
   "id": "12416291",
   "metadata": {},
   "outputs": [],
   "source": [
    "dict1 = {'yash':44,\"sagar\":15,'parth':120}\n",
    "dict1."
   ]
  },
  {
   "cell_type": "code",
   "execution_count": null,
   "id": "7a683557",
   "metadata": {},
   "outputs": [],
   "source": []
  }
 ],
 "metadata": {
  "kernelspec": {
   "display_name": "Python 3 (ipykernel)",
   "language": "python",
   "name": "python3"
  },
  "language_info": {
   "codemirror_mode": {
    "name": "ipython",
    "version": 3
   },
   "file_extension": ".py",
   "mimetype": "text/x-python",
   "name": "python",
   "nbconvert_exporter": "python",
   "pygments_lexer": "ipython3",
   "version": "3.9.7"
  }
 },
 "nbformat": 4,
 "nbformat_minor": 5
}
